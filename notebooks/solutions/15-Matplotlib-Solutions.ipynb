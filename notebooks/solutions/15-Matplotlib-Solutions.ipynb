{
 "cells": [
  {
   "cell_type": "markdown",
   "metadata": {
    "nbpresent": {
     "id": "80243624-0a24-4f0c-a5b2-aa3598627698"
    }
   },
   "source": [
    "# Matplotlib - Intro"
   ]
  },
  {
   "cell_type": "markdown",
   "metadata": {},
   "source": [
    "* **matplotlib** is a Python plotting library for producing publication quality figures\n",
    "    * allows for interactive, cross-platform control of plots\n",
    "    * makes it easy to produce static raster or vector graphics\n",
    "        * gives the developer complete control over the appearance of their plots, while still being usable through a powerful defaults system\n",
    "* standard scientific plotting library\n",
    "* online documentnation is on [matplotlib.org](https://matplotlib.org/index.html), with lots of examples in the [gallery](https://matplotlib.org/gallery.html)\n",
    "\n",
    "* behaves similarly to Matlab"
   ]
  },
  {
   "cell_type": "code",
   "execution_count": null,
   "metadata": {},
   "outputs": [],
   "source": [
    "import matplotlib.pyplot as plt"
   ]
  },
  {
   "cell_type": "markdown",
   "metadata": {},
   "source": [
    "To be efficient with **matplotlib**, you first need to understand its termonology."
   ]
  },
  {
   "cell_type": "markdown",
   "metadata": {},
   "source": [
    "## Parts of a Figure"
   ]
  },
  {
   "cell_type": "markdown",
   "metadata": {},
   "source": [
    "<img src=\"../../figures/matplotlib_figure_parts.png\" style=\"height:60%; width:60%;\">"
   ]
  },
  {
   "cell_type": "markdown",
   "metadata": {},
   "source": [
    "### Figure, Axes, Axis"
   ]
  },
  {
   "cell_type": "markdown",
   "metadata": {},
   "source": [
    "* **Figure** is the whole image, the top-level 'container' that holds all objects of an image.\n",
    "* **Axes** is the region of a **Figure** that displays your data. Most plotting occurs here!\n",
    "* **Axes** contains two (or three in the case of 3D) **Axis** objects which control the data limits.\n",
    "* **Figure** can have any number of **Axes**, but to be useful should have at least one."
   ]
  },
  {
   "cell_type": "code",
   "execution_count": null,
   "metadata": {},
   "outputs": [],
   "source": [
    "fig = plt.figure() # an empty Figure with no Axes"
   ]
  },
  {
   "cell_type": "code",
   "execution_count": null,
   "metadata": {},
   "outputs": [],
   "source": [
    "fig.axes # check if Figure has Axes (no)"
   ]
  },
  {
   "cell_type": "code",
   "execution_count": null,
   "metadata": {},
   "outputs": [],
   "source": [
    "fig = plt.figure()\n",
    "axes = fig.add_subplot(111) # add one Axes to Figure"
   ]
  },
  {
   "cell_type": "code",
   "execution_count": null,
   "metadata": {},
   "outputs": [],
   "source": [
    "fig.axes # check if Figure has Axes (yes)"
   ]
  },
  {
   "cell_type": "markdown",
   "metadata": {},
   "source": [
    "Usually an **Axes** is set up with a call to `fig.add_subplot()`, `plt.subplot()`, or `plt.subplots()` in case of multiple **Axes**, so in most cases, **Axes** and **subplot** are synonymous.\n",
    "\n",
    "There are many ways to create a single subplot:\n",
    "1. `fig = plt.figure()\n",
    "axes = fig.add_subplot(111)`\n",
    "2. `plt.plot()` - the simplest way, good for a quick look at your data\n",
    "3. `plt.subplot()`\n",
    "4. `plt.subplots()`\n",
    "\n",
    "To create multiple subplots (e.g. 2 rows, 1 column):\n",
    "1. `fig = plt.figure()\n",
    "axes1 = fig.add_subplot(211)\n",
    "axes2 = fig.add_subplot(212)`\n",
    "2. `plt.subplots(2, 1)`\n",
    "3. `fig, axes = plt.subplots(2, 1)` - the most flexible way"
   ]
  },
  {
   "cell_type": "markdown",
   "metadata": {},
   "source": [
    "**Exercise 0 (5 mins)**. Create single and multiple empty subplots by using different functions. You will see that in each case a different set objects is created along with an image, try to explain why."
   ]
  },
  {
   "cell_type": "code",
   "execution_count": null,
   "metadata": {},
   "outputs": [],
   "source": [
    "# Your code here"
   ]
  },
  {
   "cell_type": "code",
   "execution_count": null,
   "metadata": {},
   "outputs": [],
   "source": [
    "# Solution\n",
    "plt.plot()"
   ]
  },
  {
   "cell_type": "code",
   "execution_count": null,
   "metadata": {},
   "outputs": [],
   "source": [
    "plt.plot(10)"
   ]
  },
  {
   "cell_type": "code",
   "execution_count": null,
   "metadata": {},
   "outputs": [],
   "source": [
    "plt.subplot()"
   ]
  },
  {
   "cell_type": "code",
   "execution_count": null,
   "metadata": {},
   "outputs": [],
   "source": [
    "plt.subplots()"
   ]
  },
  {
   "cell_type": "code",
   "execution_count": null,
   "metadata": {},
   "outputs": [],
   "source": [
    "plt.subplots(2, 1)"
   ]
  },
  {
   "cell_type": "code",
   "execution_count": null,
   "metadata": {
    "scrolled": true
   },
   "outputs": [],
   "source": [
    "fig, axes = plt.subplots(2, 1)"
   ]
  },
  {
   "cell_type": "markdown",
   "metadata": {},
   "source": [
    "Exlanation.\n",
    "1. `fig = plt.figure()\n",
    "axes = fig.add_subplot(111)`\n",
    "\n",
    "    There is no extra text in the cell output, because both **Figure** and **Axes** objects are assinged to variables, fig and axes.\n",
    "    \n",
    "2. `plt.plot()` with no arguments assumes that the input data is an empty list and treats it as a (0, 0) point, then it scales the axes to zoom in on that one data point.\n",
    "     \n",
    "3. `plt.subplot()` uses the concept of the current figure (.gcf()), like Matlab. It applies changes to the current figure, namely adds an **Axes**.\n",
    "\n",
    "4. `plt.subplots(2, 1)` creates a **Figure** and two **Axes**.\n",
    "\n",
    "5. `fig, axes = plt.subplots(2, 1)` does the same as plt.subplots(2, 1), but a **Figure** object is assigned to a variable fig, and list of two **Axes** is assigned to a variable axes."
   ]
  },
  {
   "cell_type": "markdown",
   "metadata": {},
   "source": [
    "### Line plots"
   ]
  },
  {
   "cell_type": "markdown",
   "metadata": {},
   "source": [
    "Lets draw two cosine functions of different amplitude on the same **Axes**."
   ]
  },
  {
   "cell_type": "code",
   "execution_count": null,
   "metadata": {},
   "outputs": [],
   "source": [
    "import numpy as np"
   ]
  },
  {
   "cell_type": "code",
   "execution_count": null,
   "metadata": {},
   "outputs": [],
   "source": [
    "# Create data\n",
    "X = np.linspace(-np.pi, np.pi, 100, endpoint=True)\n",
    "Y1 = np.cos(X)\n",
    "Y2 = 2*np.cos(X)"
   ]
  },
  {
   "cell_type": "code",
   "execution_count": null,
   "metadata": {},
   "outputs": [],
   "source": [
    "# Plot data\n",
    "fig, axes = plt.subplots()\n",
    "axes.plot(X, Y1)\n",
    "axes.plot(X, Y2);"
   ]
  },
  {
   "cell_type": "markdown",
   "metadata": {},
   "source": [
    "** Tip: by adding a semicolon at the end of a function, the output is suppressed."
   ]
  },
  {
   "cell_type": "markdown",
   "metadata": {},
   "source": [
    "### Default and named colors"
   ]
  },
  {
   "cell_type": "markdown",
   "metadata": {},
   "source": [
    "![](../../figures/dflt_style_changes-1.png)"
   ]
  },
  {
   "cell_type": "markdown",
   "metadata": {},
   "source": [
    "![](../../figures/named_colors.png)"
   ]
  },
  {
   "cell_type": "markdown",
   "metadata": {},
   "source": [
    "**Exercise 1 (10 mins)**. The figure before is generated using the default settings. The code below shows these settings explicitly. Play with the values to explore their affect."
   ]
  },
  {
   "cell_type": "code",
   "execution_count": null,
   "metadata": {},
   "outputs": [],
   "source": [
    "# Plot data (with explicit plotting settings)\n",
    "fig, axes = plt.subplots(nrows=1, ncols=1, figsize=(6,4))\n",
    "axes.plot(X, Y1, color='C0', linewidth=1.5, linestyle='-')\n",
    "axes.plot(X, Y2, color='C1', linewidth=1.5, linestyle='-')\n",
    "axes.set_xlim(-3.7, 3.7)\n",
    "axes.set_ylim(-2.2, 2.2)\n",
    "axes.set_xticks(np.linspace(-3,3,7,endpoint=True))\n",
    "axes.set_yticks(np.linspace(-2,2,9,endpoint=True));"
   ]
  },
  {
   "cell_type": "markdown",
   "metadata": {},
   "source": [
    "** Tip: use Shift+Tab on `axes.method_of_your_choice()` to call a `docstring` to see what else you can change."
   ]
  },
  {
   "cell_type": "code",
   "execution_count": null,
   "metadata": {},
   "outputs": [],
   "source": [
    "# Your code here"
   ]
  },
  {
   "cell_type": "code",
   "execution_count": null,
   "metadata": {},
   "outputs": [],
   "source": [
    "# Solution\n",
    "# Plot data (with explicit plotting settings)\n",
    "fig, axes = plt.subplots(nrows=1, ncols=1, figsize=(8,4))\n",
    "axes.plot(X, Y1, color='r', linewidth=4, linestyle='--')\n",
    "axes.plot(X, Y2, color='b', linewidth=2, linestyle='-.')\n",
    "axes.set_xlim(-8, 8)\n",
    "axes.set_ylim(-3, 3)\n",
    "axes.set_xticks(np.linspace(-4,4,9,endpoint=True))\n",
    "axes.set_yticks(np.linspace(-3,3,11,endpoint=True));"
   ]
  },
  {
   "cell_type": "markdown",
   "metadata": {},
   "source": [
    "**Exercise 2 (10 mins)**. Having integer numbers on the x axis here might divert reader's attention from the critical points of the graph.\n",
    "\n",
    "1. Change **xticks** and **xticklabels** into multiples of $\\pi$. Use `axes.set_xticks()` and `axes.set_xticklabels()`.\n",
    "2. Reduce the number of shown y values to -2, -1, 0, 1, 2. Use `axes.set_yticks()`.\n",
    "\n",
    "\\*\\* Tip: use `np.pi` for **xticks** and '\\$\\pi$' for **xticklabels**."
   ]
  },
  {
   "cell_type": "code",
   "execution_count": null,
   "metadata": {},
   "outputs": [],
   "source": [
    "# Your code here"
   ]
  },
  {
   "cell_type": "code",
   "execution_count": null,
   "metadata": {},
   "outputs": [],
   "source": [
    "# Solution\n",
    "# Change xticks, yticks and xticklabels\n",
    "fig, axes = plt.subplots()\n",
    "axes.plot(X, Y1);\n",
    "axes.plot(X, Y2);\n",
    "\n",
    "axes.set_xticks([-np.pi, -np.pi/2, 0, np.pi/2, np.pi]);\n",
    "axes.set_yticks([-2, -1, 0, 1, 2]);\n",
    "axes.set_xticklabels(['$-\\pi$', '$-\\pi/2$', '$0$', '$+\\pi/2$', '$+\\pi$']);"
   ]
  },
  {
   "cell_type": "markdown",
   "metadata": {},
   "source": [
    "**Exersise 3 (5 mins)**. Lets move the center of the coordinate system (the origin) to (0,0). For that we need to work with the **spines**, lines connecting the axis tick marks and noting the boundaries of the data area.\n",
    "1. Use `axes.spines` attribute. \n",
    "2. Hide two out of four spines (say, top and right) by setting the edgecolor of the spines to 'none'. Use `.set_color()`.\n",
    "3. Intersect the other two spines (0,0) by using `.set_position()`.\n",
    "\n",
    "** Tip: visit [spines](https://matplotlib.org/api/spines_api.html)."
   ]
  },
  {
   "cell_type": "code",
   "execution_count": null,
   "metadata": {},
   "outputs": [],
   "source": [
    "# Your code here"
   ]
  },
  {
   "cell_type": "code",
   "execution_count": null,
   "metadata": {},
   "outputs": [],
   "source": [
    "# Solution\n",
    "# Move origin to (0,0)\n",
    "fig, axes = plt.subplots()\n",
    "axes.plot(X, Y1);\n",
    "axes.plot(X, Y2);\n",
    "axes.set_xticks([-np.pi, -np.pi/2, 0, np.pi/2, np.pi]);\n",
    "axes.set_yticks([-2, -1, 0, 1, 2]);\n",
    "axes.set_xticklabels([r'$-\\pi$', r'$-\\pi/2$', r'$0$', r'$+\\pi/2$', r'$+\\pi$']);\n",
    "\n",
    "axes.spines['right'].set_color('none')\n",
    "axes.spines['top'].set_color('none')\n",
    "axes.spines['bottom'].set_position('zero')\n",
    "axes.spines['left'].set_position('zero')"
   ]
  },
  {
   "cell_type": "markdown",
   "metadata": {},
   "source": [
    "**Exersise 4 (5 mins)**. Add a legend.\n",
    "1. Give both cosine functions a name by adding an extra keyword argument, a label, to `axes.plot()`.\n",
    "2. Add a legend object to **Axes**. "
   ]
  },
  {
   "cell_type": "code",
   "execution_count": null,
   "metadata": {},
   "outputs": [],
   "source": [
    "# Your code here"
   ]
  },
  {
   "cell_type": "code",
   "execution_count": null,
   "metadata": {},
   "outputs": [],
   "source": [
    "# Solution\n",
    "# Add legend\n",
    "fig, axes = plt.subplots()\n",
    "axes.plot(X, Y1, label='cos(x)');\n",
    "axes.plot(X, Y2, label='2cos(x)');\n",
    "axes.set_xticks([-np.pi, -np.pi/2, 0, np.pi/2, np.pi]);\n",
    "axes.set_yticks([-2, -1, 0, 1, 2]);\n",
    "axes.set_xticklabels([r'$-\\pi$', r'$-\\pi/2$', r'$0$', r'$+\\pi/2$', r'$+\\pi$']);\n",
    "axes.spines['right'].set_color('none')\n",
    "axes.spines['top'].set_color('none')\n",
    "axes.spines['bottom'].set_position('zero')\n",
    "axes.spines['left'].set_position('zero')\n",
    "\n",
    "axes.legend(loc='upper left', frameon=False);"
   ]
  },
  {
   "cell_type": "markdown",
   "metadata": {},
   "source": [
    "**Exercise 5 (10 mins)**. Annotate an interesting point on a graph, for example, $2\\cos(\\frac{\\pi}{4})$.\n",
    "1. Add a single point to the graph by using `axes.plot(..., marker='o')`.\n",
    "2. Use `axes.annotate(s, xy=..., xytext=...)` to add annotation.\n",
    "\n",
    "** Tip: in Latex, $2\\cos(\\frac{\\pi}{4})$ is \\$2\\cos(\\frac{\\pi}{4})$. What is it equal to?\n",
    "\n",
    "** Tip: visit [annotations](https://matplotlib.org/users/annotations_intro.html)."
   ]
  },
  {
   "cell_type": "code",
   "execution_count": null,
   "metadata": {},
   "outputs": [],
   "source": [
    "# Your code here"
   ]
  },
  {
   "cell_type": "code",
   "execution_count": null,
   "metadata": {},
   "outputs": [],
   "source": [
    "# Solution\n",
    "# Hightlight and annotate a point\n",
    "fig, axes = plt.subplots()\n",
    "axes.plot(X, Y1, label='cos(x)');\n",
    "axes.plot(X, Y2, label='2cos(x)');\n",
    "axes.set_xticks([-np.pi, -np.pi/2, 0, np.pi/2, np.pi]);\n",
    "axes.set_yticks([-2, -1, 0, 1, 2]);\n",
    "axes.set_xticklabels([r'$-\\pi$', r'$-\\pi/2$', r'$0$', r'$+\\pi/2$', r'$+\\pi$']);\n",
    "axes.spines['right'].set_color('none')\n",
    "axes.spines['top'].set_color('none')\n",
    "axes.spines['bottom'].set_position('zero')\n",
    "axes.spines['left'].set_position('zero')\n",
    "axes.legend(loc='upper left', frameon=False);\n",
    "\n",
    "point = np.pi/4\n",
    "axes.plot(point, 2*np.cos(point), marker='o');\n",
    "axes.annotate(r'$2\\cos(\\frac{\\pi}{4})=\\sqrt{2}$', xy=(point, 2*np.cos(point)), xytext=(1, 1.5), fontsize=16);"
   ]
  },
  {
   "cell_type": "markdown",
   "metadata": {},
   "source": [
    "### Multiple subplots"
   ]
  },
  {
   "cell_type": "markdown",
   "metadata": {},
   "source": [
    "`plt.subplots()` is a function that creates a figure and a grid of subplots with a single call, while providing reasonable control over how the individual plots are created. "
   ]
  },
  {
   "cell_type": "code",
   "execution_count": null,
   "metadata": {},
   "outputs": [],
   "source": [
    "fig, axs = plt.subplots(nrows=2, ncols=3, figsize=(15,5))"
   ]
  },
  {
   "cell_type": "code",
   "execution_count": null,
   "metadata": {},
   "outputs": [],
   "source": [
    "axs"
   ]
  },
  {
   "cell_type": "code",
   "execution_count": null,
   "metadata": {},
   "outputs": [],
   "source": [
    "type(axs), axs.shape"
   ]
  },
  {
   "cell_type": "code",
   "execution_count": null,
   "metadata": {},
   "outputs": [],
   "source": [
    "fig, axes = plt.subplots(nrows=2, ncols=3, figsize=(15,5))\n",
    "axes[0,0].set_title('subplot[0,0]', fontsize=18);\n",
    "axes[0,1].set_title('subplot[0,1]', fontsize=18);\n",
    "axes[0,2].set_title('subplot[0,2]', fontsize=18);\n",
    "axes[1,0].set_title('subplot[1,0]', fontsize=18);\n",
    "axes[1,1].set_title('subplot[1,1]', fontsize=18);\n",
    "axes[1,2].set_title('subplot[1,2]', fontsize=18);\n",
    "\n",
    "# for ax in axes.flat: # you can loop over axes\n",
    "#     ax.set_xticks([]);\n",
    "#     ax.set_yticks([]);"
   ]
  },
  {
   "cell_type": "markdown",
   "metadata": {},
   "source": [
    "### Subplots with real data"
   ]
  },
  {
   "cell_type": "markdown",
   "metadata": {},
   "source": [
    "Today we are going to work with data from the NOAA ESRL Carbon Cycle Cooperative Global Air Sampling Network.\n",
    "\n",
    "Source: https://www.esrl.noaa.gov/gmd/dv/data/\n",
    "\n",
    "Monthly averages of atmospheric carbon dioxide ($CO_2$), methane ($CH_4$) dry air mole fractions, $\\delta^{13}C/CO_{2}$ and $\\delta^{13}C/CH_{4}$.\n",
    "\n",
    "Stations: \n",
    "* CGO = Cape Grim, Tasmania, Australia\n",
    "* MHD = Mace Head, County Galway, Ireland\n",
    "\n",
    "Units:\n",
    "* $CO_2$ - ppm\n",
    "* $CH_4$ - ppb\n",
    "* $\\delta^{13}C/CO_{2}$ - ‰ (per mil)\n",
    "* $\\delta^{13}C/CH_{4}$ - ‰ (per mil)\n",
    "\n",
    "Data storred in a text file. The top row states the number of header lines in the file. No title headers. The actual data is ogranized as following:\n",
    "\n",
    "Station code | Year | Month | Measurement\n",
    "\n",
    "CGO            1984     4       341.63  "
   ]
  },
  {
   "cell_type": "markdown",
   "metadata": {},
   "source": [
    "#### Read data from a text file"
   ]
  },
  {
   "cell_type": "markdown",
   "metadata": {},
   "source": [
    "The simplest way to load data from a text file in `numpy` is to use `np.loadtxt()` function."
   ]
  },
  {
   "cell_type": "code",
   "execution_count": null,
   "metadata": {},
   "outputs": [],
   "source": [
    "# np.loadtxt() # hit Shift+Tab+Tab"
   ]
  },
  {
   "cell_type": "markdown",
   "metadata": {},
   "source": [
    "This function has a lot parameters that you can adjuct to fit  your data format. Here we use only:\n",
    "\n",
    "`np.loadtxt(fname, skiprows=..., usecols=..., unpack=...)`"
   ]
  },
  {
   "cell_type": "markdown",
   "metadata": {},
   "source": [
    "** Tip: you can do the same with `np.genfromtxt()`. `np.genfromtxt()` provides more sophisticated handling of, e.g., lines with missing values. However, keyword agrument names slightly differ from those in `np.loadtxt()`."
   ]
  },
  {
   "cell_type": "code",
   "execution_count": null,
   "metadata": {},
   "outputs": [],
   "source": [
    "# np.genfromtxt() # hit Shift+Tab+Tab"
   ]
  },
  {
   "cell_type": "markdown",
   "metadata": {},
   "source": [
    "Out dataset is very simple and does not have any missing values, so lets use `np.loadtxt()`."
   ]
  },
  {
   "cell_type": "code",
   "execution_count": null,
   "metadata": {},
   "outputs": [],
   "source": [
    "data = np.loadtxt('../../data/co2_cgo_surface-flask_1_ccgg_month.txt', skiprows=68, usecols=(1, 2, 3))\n",
    "data"
   ]
  },
  {
   "cell_type": "code",
   "execution_count": null,
   "metadata": {},
   "outputs": [],
   "source": [
    "type(data), data.shape, data.ndim"
   ]
  },
  {
   "cell_type": "markdown",
   "metadata": {},
   "source": [
    "If we want to have three separate arrays for year, month and value, we can set `unpack=True` and store the output from `np.loadtxt()` function in three separate arrays."
   ]
  },
  {
   "cell_type": "code",
   "execution_count": null,
   "metadata": {},
   "outputs": [],
   "source": [
    "year, month, value = np.loadtxt('../../data/co2_cgo_surface-flask_1_ccgg_month.txt', skiprows=68, usecols=(1, 2, 3), unpack=True)"
   ]
  },
  {
   "cell_type": "code",
   "execution_count": null,
   "metadata": {},
   "outputs": [],
   "source": [
    "year[0:8]"
   ]
  },
  {
   "cell_type": "code",
   "execution_count": null,
   "metadata": {},
   "outputs": [],
   "source": [
    "month[0:8]"
   ]
  },
  {
   "cell_type": "code",
   "execution_count": null,
   "metadata": {},
   "outputs": [],
   "source": [
    "value[0:8]"
   ]
  },
  {
   "cell_type": "markdown",
   "metadata": {},
   "source": [
    "#### Kwargs"
   ]
  },
  {
   "cell_type": "markdown",
   "metadata": {},
   "source": [
    "* remember from yesterday, you can store any number of keyword arguments in a dictionary, and later unpack it when calling a function"
   ]
  },
  {
   "cell_type": "code",
   "execution_count": null,
   "metadata": {},
   "outputs": [],
   "source": [
    "# Kwargs\n",
    "read_data_kwargs = dict(skiprows=68, usecols=(1, 2, 3), unpack=True)"
   ]
  },
  {
   "cell_type": "code",
   "execution_count": null,
   "metadata": {},
   "outputs": [],
   "source": [
    "# Read data\n",
    "# CO2 \n",
    "cgo_co2_yr, cgo_co2_mn, cgo_co2_val = np.loadtxt('../../data/co2_cgo_surface-flask_1_ccgg_month.txt', **read_data_kwargs)\n",
    "mhd_co2_yr, mhd_co2_mn, mhd_co2_val = np.loadtxt('../../data/co2_mhd_surface-flask_1_ccgg_month.txt', **read_data_kwargs)\n",
    "# C13/C12 in CO2 (d13C (CO2))\n",
    "cgo_co2c13_yr, cgo_co2c13_mn, cgo_co2c13_val = np.loadtxt('../../data/co2c13_cgo_surface-flask_1_sil_month.txt', **read_data_kwargs)\n",
    "mhd_co2c13_yr, mhd_co2c13_mn, mhd_co2c13_val = np.loadtxt('../../data/co2c13_mhd_surface-flask_1_sil_month.txt', **read_data_kwargs)\n",
    "# CH4\n",
    "cgo_ch4_yr, cgo_ch4_mn, cgo_ch4_val = np.loadtxt('../../data/ch4_cgo_surface-flask_1_ccgg_month.txt', **read_data_kwargs)\n",
    "mhd_ch4_yr, mhd_ch4_mn, mhd_ch4_val = np.loadtxt('../../data/ch4_mhd_surface-flask_1_ccgg_month.txt', **read_data_kwargs)\n",
    "# C13/C12 in CH4 (d13C (CH4))\n",
    "cgo_ch4c13_yr, cgo_ch4c13_mn, cgo_ch4c13_val = np.loadtxt('../../data/ch4c13_cgo_surface-flask_1_sil_month.txt', **read_data_kwargs)\n",
    "mhd_ch4c13_yr, mhd_ch4c13_mn, mhd_ch4c13_val = np.loadtxt('../../data/ch4c13_mhd_surface-flask_1_sil_month.txt', **read_data_kwargs)"
   ]
  },
  {
   "cell_type": "markdown",
   "metadata": {},
   "source": [
    "#### Datetime\n",
    "\n",
    "* `datetime` module helps to work with time arrays"
   ]
  },
  {
   "cell_type": "code",
   "execution_count": null,
   "metadata": {},
   "outputs": [],
   "source": [
    "from datetime import datetime"
   ]
  },
  {
   "cell_type": "code",
   "execution_count": null,
   "metadata": {},
   "outputs": [],
   "source": [
    "datetime.now()"
   ]
  },
  {
   "cell_type": "code",
   "execution_count": null,
   "metadata": {},
   "outputs": [],
   "source": [
    "a_date = datetime(2018, 1, 11)"
   ]
  },
  {
   "cell_type": "code",
   "execution_count": null,
   "metadata": {},
   "outputs": [],
   "source": [
    "a_date"
   ]
  },
  {
   "cell_type": "code",
   "execution_count": null,
   "metadata": {},
   "outputs": [],
   "source": [
    "python_course_dates = [datetime(2018, 1, i) for i in [10, 11, 12]]"
   ]
  },
  {
   "cell_type": "code",
   "execution_count": null,
   "metadata": {},
   "outputs": [],
   "source": [
    "python_course_dates"
   ]
  },
  {
   "cell_type": "markdown",
   "metadata": {},
   "source": [
    "Lets apply it to our arrays."
   ]
  },
  {
   "cell_type": "code",
   "execution_count": null,
   "metadata": {},
   "outputs": [],
   "source": [
    "# Using list comprehension\n",
    "cgo_co2_time = [datetime(int(i), int(j), 1) for i, j in zip(cgo_co2_yr, cgo_co2_mn)]"
   ]
  },
  {
   "cell_type": "code",
   "execution_count": null,
   "metadata": {},
   "outputs": [],
   "source": [
    "# Same as in previous cell but using a for loop\n",
    "cgo_co2_time = []\n",
    "for i, j in zip(cgo_co2_yr, cgo_co2_mn):\n",
    "    cgo_co2_time.append(datetime(int(i), int(j), 1))"
   ]
  },
  {
   "cell_type": "code",
   "execution_count": null,
   "metadata": {},
   "outputs": [],
   "source": [
    "mhd_co2_time = [datetime(int(i), int(j), 1) for i, j in zip(mhd_co2_yr, mhd_co2_mn)]\n",
    "\n",
    "cgo_co2c13_time = [datetime(int(i), int(j), 1) for i, j in zip(cgo_co2c13_yr, cgo_co2c13_mn)]\n",
    "mhd_co2c13_time = [datetime(int(i), int(j), 1) for i, j in zip(mhd_co2c13_yr, mhd_co2c13_mn)]\n",
    "\n",
    "cgo_ch4_time = [datetime(int(i), int(j), 1) for i, j in zip(cgo_ch4_yr, cgo_ch4_mn)]\n",
    "mhd_ch4_time = [datetime(int(i), int(j), 1) for i, j in zip(mhd_ch4_yr, mhd_ch4_mn)]\n",
    "\n",
    "cgo_ch4c13_time = [datetime(int(i), int(j), 1) for i, j in zip(cgo_ch4c13_yr, cgo_ch4c13_mn)]\n",
    "mhd_ch4c13_time = [datetime(int(i), int(j), 1) for i, j in zip(mhd_ch4c13_yr, mhd_ch4c13_mn)]"
   ]
  },
  {
   "cell_type": "markdown",
   "metadata": {},
   "source": [
    "**Exercise 6 (30 mins)**. Construct four subplots using the arrays created above. Add titles, x and y labels, legend. Play with optional arguments of `plot()` and try to use **kwargs**."
   ]
  },
  {
   "cell_type": "code",
   "execution_count": null,
   "metadata": {},
   "outputs": [],
   "source": [
    "# Your code here"
   ]
  },
  {
   "cell_type": "code",
   "execution_count": null,
   "metadata": {},
   "outputs": [],
   "source": [
    "# Solution\n",
    "# plt.rcParams['mathtext.default'] = 'regular'\n",
    "\n",
    "cgo_kwargs = dict(label='Cape Grim', color='C3', linestyle='-')\n",
    "mhd_kwargs = dict(label='Mace Head', color='C7', linestyle='-')\n",
    "\n",
    "fig, axes = plt.subplots(nrows=2, ncols=2, figsize=(15,9), sharex=True)\n",
    "\n",
    "axes[0,0].plot(cgo_co2_time, cgo_co2_val, **cgo_kwargs);\n",
    "axes[0,1].plot(cgo_co2c13_time, cgo_co2c13_val, **cgo_kwargs);\n",
    "axes[1,0].plot(cgo_ch4_time, cgo_ch4_val, **cgo_kwargs);\n",
    "axes[1,1].plot(cgo_ch4c13_time, cgo_ch4c13_val, **cgo_kwargs);\n",
    "\n",
    "axes[0,0].plot(mhd_co2_time, mhd_co2_val, **mhd_kwargs);\n",
    "axes[0,1].plot(mhd_co2c13_time, mhd_co2c13_val, **mhd_kwargs);\n",
    "axes[1,0].plot(mhd_ch4_time, mhd_ch4_val, **mhd_kwargs);\n",
    "axes[1,1].plot(mhd_ch4c13_time, mhd_ch4c13_val, **mhd_kwargs);\n",
    "\n",
    "axes[0,0].set_title('$CO_{2}$');\n",
    "axes[0,1].set_title('$\\delta^{13}C/CO_{2}$');\n",
    "axes[1,0].set_title('$CH_{4}$');\n",
    "axes[1,1].set_title('$\\delta^{13}C/CH_{4}$');\n",
    "\n",
    "axes[0,0].set_ylabel('ppm');\n",
    "axes[0,1].set_ylabel('‰');\n",
    "axes[1,0].set_ylabel('ppb');\n",
    "axes[1,1].set_ylabel('‰');\n",
    "\n",
    "axes[0,0].legend();"
   ]
  },
  {
   "cell_type": "markdown",
   "metadata": {},
   "source": [
    "### Bar charts"
   ]
  },
  {
   "cell_type": "markdown",
   "metadata": {},
   "source": [
    "* present categorical data with rectangular bars with heights or lengths proportional to the values that they represent\n",
    "* bars can be plotted vertically or horizontally"
   ]
  },
  {
   "cell_type": "markdown",
   "metadata": {},
   "source": [
    "`plt.bar(x, height, width, bottom, align='center', **kwargs)`\n",
    "\n",
    "`plt.barh(y, width, height, left, align='center', **kwargs)`"
   ]
  },
  {
   "cell_type": "markdown",
   "metadata": {},
   "source": [
    "The bars are positioned at x with the given alignment. Their dimensions are given by width and height. The vertical baseline is bottom (default 0).\n",
    "\n",
    "Each of x, height, width, and bottom may either be a scalar applying to all bars, or it may be a sequence of length N providing a separate value for each bar."
   ]
  },
  {
   "cell_type": "code",
   "execution_count": null,
   "metadata": {},
   "outputs": [],
   "source": [
    "# Generate some data\n",
    "x = np.arange(10)\n",
    "bar_height = x**2\n",
    "barh_width = x**2-10"
   ]
  },
  {
   "cell_type": "markdown",
   "metadata": {},
   "source": [
    "**Exercise 7 (10 mins)**. Play with the values in `plt.bar()` and `plt.barh()` functions to explore their affect."
   ]
  },
  {
   "cell_type": "code",
   "execution_count": null,
   "metadata": {},
   "outputs": [],
   "source": [
    "plt.bar(x, bar_height);"
   ]
  },
  {
   "cell_type": "code",
   "execution_count": null,
   "metadata": {},
   "outputs": [],
   "source": [
    "plt.barh(x, barh_width);"
   ]
  },
  {
   "cell_type": "code",
   "execution_count": null,
   "metadata": {},
   "outputs": [],
   "source": [
    "# Your code here"
   ]
  },
  {
   "cell_type": "code",
   "execution_count": null,
   "metadata": {
    "scrolled": true
   },
   "outputs": [],
   "source": [
    "# Solution\n",
    "plt.bar(x, bar_height, width=0.8, bottom=-10, align='edge', color='chartreuse', edgecolor='k', linewidth=2, yerr=10, ecolor='b');"
   ]
  },
  {
   "cell_type": "code",
   "execution_count": null,
   "metadata": {},
   "outputs": [],
   "source": [
    "plt.barh(x, barh_width, left=np.arange(10)+20, height=0.8, align='edge', color='chartreuse', edgecolor='k', linewidth=2, xerr=10, \n",
    "         ecolor='b');"
   ]
  },
  {
   "cell_type": "markdown",
   "metadata": {},
   "source": [
    "### Demonstration of bar() on NAO index data"
   ]
  },
  {
   "cell_type": "markdown",
   "metadata": {},
   "source": [
    "Now let's use `bar()` to plot the data on North Atlantic oscillation from the NWS Climate Prediction Center. \n",
    "\n",
    "Data source: http://www.cpc.ncep.noaa.gov/products/precip/CWlink/pna/nao.shtml\n",
    "\n",
    "Variable: monthly mean NAO index since January 1950 till December 2017.\n",
    "\n",
    "Data stored in text file in the following way:\n",
    "\n",
    "Year | Month | Value\n",
    "\n",
    "1950 1 0.92000E+00"
   ]
  },
  {
   "cell_type": "code",
   "execution_count": null,
   "metadata": {},
   "outputs": [],
   "source": [
    "# Read NAO data\n",
    "nao_yr, nao_mn, nao_val = np.loadtxt('../../data/nao_monthly.txt', unpack=True)"
   ]
  },
  {
   "cell_type": "code",
   "execution_count": null,
   "metadata": {},
   "outputs": [],
   "source": [
    "# Quick look at the data\n",
    "fig, ax = plt.subplots(figsize=(25, 5))\n",
    "ax.plot(nao_val);"
   ]
  },
  {
   "cell_type": "markdown",
   "metadata": {},
   "source": [
    "Let's focus on the last 5 years and slice `nao_yr`, `nao_mn`, `nao_val` arrays accordingly."
   ]
  },
  {
   "cell_type": "code",
   "execution_count": null,
   "metadata": {},
   "outputs": [],
   "source": [
    "# Slicing\n",
    "nao_yr_sub = nao_yr[-12*5:]\n",
    "nao_mn_sub = nao_mn[-12*5:]\n",
    "nao_val_sub = nao_val[-12*5:]"
   ]
  },
  {
   "cell_type": "code",
   "execution_count": null,
   "metadata": {},
   "outputs": [],
   "source": [
    "# Create an array of month numbers\n",
    "nao_time = np.arange(len(nao_val_sub))\n",
    "nao_time"
   ]
  },
  {
   "cell_type": "code",
   "execution_count": null,
   "metadata": {},
   "outputs": [],
   "source": [
    "# Plot bar\n",
    "fig, ax = plt.subplots(figsize=(15,4))\n",
    "ax.bar(nao_time, nao_val_sub)\n",
    "ax.set_title('NAO index')\n",
    "ax.grid('on')"
   ]
  },
  {
   "cell_type": "markdown",
   "metadata": {},
   "source": [
    "The plot will look much better if we change the color of positive values to red, leaving negative values blue. Plus changing **xticklables** from showing the number of months to months name and a year will be better too. For the latter we will use the `calendar` module.\n",
    "\n",
    "Red color in RGB format is (1,0,0), blue (0,0,1), black (0,0,0)."
   ]
  },
  {
   "cell_type": "code",
   "execution_count": null,
   "metadata": {},
   "outputs": [],
   "source": [
    "[(0, 0, 1)] * len(nao_val_sub) # repeat a list len(nao_val_sub) number of times"
   ]
  },
  {
   "cell_type": "code",
   "execution_count": null,
   "metadata": {},
   "outputs": [],
   "source": [
    "# Colorcode positive values red and negative values blue\n",
    "red_blue_colors = np.array(   [(0, 0, 1)] * len(nao_val_sub)   ) # repeat a (blue) colour triplet 60 times\n",
    "red_blue_colors[nao_val_sub >= 0] = (1, 0, 0) # replace blue color by red if the value is non-negative"
   ]
  },
  {
   "cell_type": "code",
   "execution_count": null,
   "metadata": {},
   "outputs": [],
   "source": [
    "import calendar"
   ]
  },
  {
   "cell_type": "markdown",
   "metadata": {},
   "source": [
    "*  `calendar` module allows you to output calendars, and provides additional useful functions related to the calendar"
   ]
  },
  {
   "cell_type": "code",
   "execution_count": null,
   "metadata": {},
   "outputs": [],
   "source": [
    "calendar.month_name[1]"
   ]
  },
  {
   "cell_type": "code",
   "execution_count": null,
   "metadata": {},
   "outputs": [],
   "source": [
    "xtick_locs = nao_time[::3] # choose every 3rd xtick and store their locations"
   ]
  },
  {
   "cell_type": "code",
   "execution_count": null,
   "metadata": {},
   "outputs": [],
   "source": [
    "# Create xticklabels\n",
    "xtick_labels = []\n",
    "for mn, yr in zip(nao_mn_sub[::3], nao_yr_sub[::3]):\n",
    "    if mn == 1:\n",
    "        lab = '{}\\n{:.0f}'.format(calendar.month_name[int(mn)][:3], yr) # adding month and a year\n",
    "    else:\n",
    "        lab = calendar.month_name[int(mn)][:3] # month only\n",
    "    xtick_labels.append(lab)"
   ]
  },
  {
   "cell_type": "code",
   "execution_count": null,
   "metadata": {},
   "outputs": [],
   "source": [
    "# Final bar chart\n",
    "fig, ax = plt.subplots(figsize=(15,4))\n",
    "ax.bar(nao_time, nao_val_sub, color=red_blue_colors)\n",
    "ax.set_title('NAO index')\n",
    "ax.grid('on')\n",
    "ax.set_xticks(xtick_locs);\n",
    "ax.set_xticklabels(xtick_labels);"
   ]
  },
  {
   "cell_type": "markdown",
   "metadata": {},
   "source": [
    "### Scatter plots"
   ]
  },
  {
   "cell_type": "markdown",
   "metadata": {},
   "source": [
    "* display data as a collection of points, each having the value of one variable determining the position on the horizontal axis and the value of the other variable determining the position on the vertical axis\n",
    "* colorcode the data points to display an additional variable\n",
    "* good for non-gridded data"
   ]
  },
  {
   "cell_type": "markdown",
   "metadata": {},
   "source": [
    "`scatter(x, y, s=None, c=None, marker=None, cmap=None, norm=None, vmin=None, vmax=None, alpha=None, edgecolors=None, **kwargs)`"
   ]
  },
  {
   "cell_type": "code",
   "execution_count": null,
   "metadata": {},
   "outputs": [],
   "source": [
    "# plt.scatter() # hit Tab+Tab"
   ]
  },
  {
   "cell_type": "code",
   "execution_count": null,
   "metadata": {},
   "outputs": [],
   "source": [
    "# Generate some data (circles of random diameter)\n",
    "N = 50\n",
    "x = np.random.rand(N)\n",
    "y = np.random.rand(N)\n",
    "area = np.pi*(15*np.random.rand(N))**2  # 0 to 15 point radii\n",
    "colors = np.random.rand(N)"
   ]
  },
  {
   "cell_type": "code",
   "execution_count": null,
   "metadata": {},
   "outputs": [],
   "source": [
    "# Plot scatter\n",
    "plt.scatter(x, y, s=area, c=colors);"
   ]
  },
  {
   "cell_type": "markdown",
   "metadata": {},
   "source": [
    "### Default sequantial and diverging colormaps"
   ]
  },
  {
   "cell_type": "markdown",
   "metadata": {},
   "source": [
    "More info here, [colormaps reference](https://matplotlib.org/examples/color/colormaps_reference.html)."
   ]
  },
  {
   "cell_type": "markdown",
   "metadata": {},
   "source": [
    "<img src=\"../../figures/colormaps_reference_00.png\" style=\"height:50%; width:50%;\">\n",
    "<img src=\"../../figures/colormaps_reference_03.png\" style=\"height:50%; width:50%;\">"
   ]
  },
  {
   "cell_type": "markdown",
   "metadata": {},
   "source": [
    "**Exercise 8 (10 mins)**. Play with the values in `plt.scatter()` function to explore their affect.\n",
    "\n",
    "** Tip: find your favourite [marker](https://matplotlib.org/api/markers_api.html)."
   ]
  },
  {
   "cell_type": "code",
   "execution_count": null,
   "metadata": {},
   "outputs": [],
   "source": [
    "# Your code here"
   ]
  },
  {
   "cell_type": "code",
   "execution_count": null,
   "metadata": {},
   "outputs": [],
   "source": [
    "# Solution\n",
    "plt.scatter(x, y, s=area, c=colors, marker='*', cmap='inferno', vmin=0, vmax=1, alpha=0.5, edgecolors='k');"
   ]
  },
  {
   "cell_type": "markdown",
   "metadata": {},
   "source": [
    "### Countour and countourf plots"
   ]
  },
  {
   "cell_type": "markdown",
   "metadata": {},
   "source": [
    "* `contour()` and `contourf()` draw contour lines and filled contours, respectively\n",
    "* good for 2D gridded data\n",
    "\n",
    "** Note: `contourf()` differs from the Matlab version in that it does not draw the polygon edges. To draw edges, add line contours with calls to `contour()`."
   ]
  },
  {
   "cell_type": "markdown",
   "metadata": {},
   "source": [
    "`contour(Z)` - make a contour plot of an array Z. The level values are chosen automatically.\n",
    "\n",
    "`contour(X, Y, Z)` - X, Y specify the (x, y) coordinates of the surface\n",
    "\n",
    "`contour(X, Y, Z, N)` - contour up to N automatically-chosen levels"
   ]
  },
  {
   "cell_type": "code",
   "execution_count": null,
   "metadata": {},
   "outputs": [],
   "source": [
    "# Generate some data\n",
    "def f(x,y):\n",
    "    return (1-x/2+x**5+y**3)*np.exp(-x**2-y**2)\n",
    "# Create a (x,y) grid\n",
    "n = 256\n",
    "x = np.linspace(-3,3,n)\n",
    "y = np.linspace(-3,3,n)\n",
    "X,Y = np.meshgrid(x,y) # repeat x y times and y x times"
   ]
  },
  {
   "cell_type": "code",
   "execution_count": null,
   "metadata": {},
   "outputs": [],
   "source": [
    "# Plot contour and contourf\n",
    "fig, (ax1, ax2, ax3) = plt.subplots(1, 3, figsize=(15, 4))\n",
    "ax1.contour(X, Y, f(X,Y), 10);\n",
    "# ax2.contourf(X, Y, f(X,Y), 10);\n",
    "# ax3.contour(X, Y, f(X,Y), 10, colors='k');\n",
    "# ax3.contourf(X, Y, f(X,Y), 10);"
   ]
  },
  {
   "cell_type": "markdown",
   "metadata": {},
   "source": [
    "#### How to add a colorbar?"
   ]
  },
  {
   "cell_type": "markdown",
   "metadata": {},
   "source": [
    "The **colorbar** has to have its own **Axes**!\n",
    "\n",
    "By writing ax1.contourf(..., f(X,Y)) you say 'display f(X,Y) using contourf() method of ax1 on ax1'. Unless you want to overlay f(X,Y) with some other array, you can't use ax1 for anything else.\n",
    "\n",
    "Colorbar is exactly 'something else', something extra, that needs to be shown on an additional **Axes**, and in order to create this **Axes** we use a figure method, `fig.colorbar()`.\n",
    "\n",
    "But (!) you also need to specify for which subplot you want to have a colorbar. For that you need to create a so called **mappable** object by assigning the output from `contourf()` to a variable, and then pass this **mappable** object to `fig.colorbar()`."
   ]
  },
  {
   "cell_type": "code",
   "execution_count": null,
   "metadata": {},
   "outputs": [],
   "source": [
    "# Plot contour and contourf with colorbars\n",
    "fig, (ax1, ax2, ax3) = plt.subplots(1, 3, figsize=(15, 4))\n",
    "ax1.contour(X, Y, f(X,Y), 10)\n",
    "mappable2 = ax2.contourf(X, Y, f(X,Y), 10)\n",
    "mappable3 = ax3.contour(X, Y, f(X,Y), 10, colors='k')\n",
    "mappable3 = ax3.contourf(X, Y, f(X,Y), 10)\n",
    "fig.colorbar(mappable2, ax=ax2)\n",
    "fig.colorbar(mappable3, ax=ax3);"
   ]
  },
  {
   "cell_type": "markdown",
   "metadata": {},
   "source": [
    "#### How to save a figure?"
   ]
  },
  {
   "cell_type": "markdown",
   "metadata": {},
   "source": [
    "Use `fig.savefig(fname, dpi=, facecolor=, bbox_inches='tight', **kwargs)`."
   ]
  },
  {
   "cell_type": "code",
   "execution_count": null,
   "metadata": {},
   "outputs": [],
   "source": [
    "# Save contour and contourf with colorbars\n",
    "fig, (ax1, ax2, ax3) = plt.subplots(1, 3, figsize=(15, 4))\n",
    "ax1.contour(X, Y, f(X,Y), 10)\n",
    "mappable2 = ax2.contourf(X, Y, f(X,Y), 10)\n",
    "mappable3 = ax3.contour(X, Y, f(X,Y), 10, colors='k')\n",
    "mappable3 = ax3.contourf(X, Y, f(X,Y), 10)\n",
    "fig.colorbar(mappable2, ax=ax2)\n",
    "fig.colorbar(mappable3, ax=ax3);\n",
    "\n",
    "fig.savefig('../../figures/MY_AWESOME_FIGURE.png', dpi=300, facecolor='moccasin', bbox_inches='tight')"
   ]
  },
  {
   "cell_type": "markdown",
   "metadata": {},
   "source": [
    "## Final matplotlib exercise (40 mins)"
   ]
  },
  {
   "cell_type": "markdown",
   "metadata": {},
   "source": [
    "Reproduce the figure below by using `contourf()` for modelled sea surface temperature and `scatter()` for randomly generated 'observed' sea surface temperature. The 'observational dataset' is given below. The code for loading modelling data is written for you (using `np.genfromtxt()`), but you need to manipulate these data for use in `contourf()`.\n",
    "\n",
    "** Hints:\n",
    "* start with `scatter()`\n",
    "* use `.reshape()` for modelling data"
   ]
  },
  {
   "cell_type": "markdown",
   "metadata": {},
   "source": [
    "![](../../figures/FINAL_MATPLOTLIB_FIGURE.png)"
   ]
  },
  {
   "cell_type": "markdown",
   "metadata": {},
   "source": [
    "Data source: https://podaac-tools.jpl.nasa.gov/las/UI.vm\n",
    "\n",
    "Dataset: AMSR-E Level 3 Sea Surface Temperature for Climate Model Comparison.\n",
    "\n",
    "Variable: Sea Surface Temperature (K).\n",
    "\n",
    "Time : 16-JUN-2002 00:00.\n",
    "\n",
    "Spacial resolution: 1$^{\\circ}$x1$^{\\circ}$, 361 by 180 points (logitude by latitude).\n",
    "\n",
    "Total Number of Records: 64980."
   ]
  },
  {
   "cell_type": "code",
   "execution_count": null,
   "metadata": {},
   "outputs": [],
   "source": [
    "# Read modelling sst data\n",
    "lon, lat, sst = np.genfromtxt('../../data/AMSR-E_Level_3_Sea_Surface_Temperature_for_Climate_Model_Comparison.csv', delimiter=',', \n",
    "                              skip_header=10, missing_values='-1.E+34', usemask=True, usecols=(2, 3, 4), unpack=True)"
   ]
  },
  {
   "cell_type": "code",
   "execution_count": null,
   "metadata": {},
   "outputs": [],
   "source": [
    "# Generate random 'observational' sst data\n",
    "num_points = 50 # number of 'observational' points\n",
    "x = np.random.randint(30, 270, num_points)\n",
    "y = np.random.randint(-70, 70, num_points)\n",
    "colors = np.random.randint(270, 305, num_points)"
   ]
  },
  {
   "cell_type": "code",
   "execution_count": null,
   "metadata": {},
   "outputs": [],
   "source": [
    "# Your code here"
   ]
  },
  {
   "cell_type": "code",
   "execution_count": null,
   "metadata": {},
   "outputs": [],
   "source": [
    "# Solution\n",
    "lon.shape, lat.shape, sst.shape"
   ]
  },
  {
   "cell_type": "code",
   "execution_count": null,
   "metadata": {},
   "outputs": [],
   "source": [
    "180*361"
   ]
  },
  {
   "cell_type": "code",
   "execution_count": null,
   "metadata": {},
   "outputs": [],
   "source": [
    "lons = lon.reshape((180, 361))"
   ]
  },
  {
   "cell_type": "code",
   "execution_count": null,
   "metadata": {},
   "outputs": [],
   "source": [
    "lats = lat.reshape((180, 361))"
   ]
  },
  {
   "cell_type": "code",
   "execution_count": null,
   "metadata": {},
   "outputs": [],
   "source": [
    "ssts = sst.reshape((180, 361))"
   ]
  },
  {
   "cell_type": "code",
   "execution_count": null,
   "metadata": {},
   "outputs": [],
   "source": [
    "fig, ax = plt.subplots(figsize=(12,6))\n",
    "p = ax.contourf(lons, lats, ssts, cmap='inferno')\n",
    "ax.set_title('Sea surface temperature 16 June 2002')\n",
    "fig.colorbar(p, ax=ax, label='K');\n",
    "ax.scatter(x, y, s=200, c=colors, edgecolor='k', vmin=270, vmax=305, cmap='inferno');\n",
    "fig.savefig('../../figures/FINAL_MATPLOTLIB_FIGURE.png', bbox_inches='tight')"
   ]
  },
  {
   "cell_type": "markdown",
   "metadata": {},
   "source": [
    "## References: \n",
    "* https://matplotlib.org/faq/usage_faq.html\n",
    "* http://www.labri.fr/perso/nrougier/teaching/matplotlib/matplotlib.html"
   ]
  }
 ],
 "metadata": {
  "anaconda-cloud": {},
  "kernelspec": {
   "display_name": "Python 3",
   "language": "python",
   "name": "python3"
  },
  "language_info": {
   "codemirror_mode": {
    "name": "ipython",
    "version": 3
   },
   "file_extension": ".py",
   "mimetype": "text/x-python",
   "name": "python",
   "nbconvert_exporter": "python",
   "pygments_lexer": "ipython3",
   "version": "3.6.4"
  },
  "nbpresent": {
   "slides": {
    "0def8933-36ce-4083-b26a-0661a1a2a116": {
     "id": "0def8933-36ce-4083-b26a-0661a1a2a116",
     "prev": "53ab1610-6f1a-4fc8-b24b-e40d920d7ceb",
     "regions": {
      "68eabbe8-3887-4c46-b94d-c0148183e603": {
       "attrs": {
        "height": 0.8,
        "width": 0.8,
        "x": 0.1,
        "y": 0.1
       },
       "content": {
        "cell": "4c52f1ce-98fc-4a38-8569-1e79f67bf0ee",
        "part": "whole"
       },
       "id": "68eabbe8-3887-4c46-b94d-c0148183e603"
      }
     }
    },
    "0e1bdc0f-c5f8-4d00-9657-4f3a78f0030c": {
     "id": "0e1bdc0f-c5f8-4d00-9657-4f3a78f0030c",
     "prev": "3bc5be16-2d36-4005-a40b-c023d27300d8",
     "regions": {
      "ce3cf658-98cf-4aa9-8875-3566578ccb6f": {
       "attrs": {
        "height": 0.8,
        "width": 0.8,
        "x": 0.1,
        "y": 0.1
       },
       "content": {
        "cell": "6100aaac-1c13-4cbb-83ee-5d1545171b7d",
        "part": "whole"
       },
       "id": "ce3cf658-98cf-4aa9-8875-3566578ccb6f"
      }
     }
    },
    "28fc96fd-5798-41c0-9388-8651637bd860": {
     "id": "28fc96fd-5798-41c0-9388-8651637bd860",
     "prev": "ee5b6ba5-0721-40fe-b5c7-598aed364a84",
     "regions": {
      "5bb62edc-0090-463a-8b20-26b2f7f4d966": {
       "attrs": {
        "height": 0.8,
        "width": 0.8,
        "x": 0.1,
        "y": 0.1
       },
       "content": {
        "cell": "823bdc5d-e1e5-4971-9b3a-f9e7d3cfad06",
        "part": "whole"
       },
       "id": "5bb62edc-0090-463a-8b20-26b2f7f4d966"
      }
     }
    },
    "2f2b80c2-7e7c-4cd6-9fca-054736469df5": {
     "id": "2f2b80c2-7e7c-4cd6-9fca-054736469df5",
     "prev": "41f4272e-776a-4897-8902-f52bd11f2403",
     "regions": {
      "b64992d5-9ed3-4d72-8048-be22ca112400": {
       "attrs": {
        "height": 0.8,
        "width": 0.8,
        "x": 0.1,
        "y": 0.1
       },
       "content": {
        "cell": "a4be4e23-a94d-4b7d-881f-de656124dcfd",
        "part": "whole"
       },
       "id": "b64992d5-9ed3-4d72-8048-be22ca112400"
      }
     }
    },
    "3bc5be16-2d36-4005-a40b-c023d27300d8": {
     "id": "3bc5be16-2d36-4005-a40b-c023d27300d8",
     "prev": "0def8933-36ce-4083-b26a-0661a1a2a116",
     "regions": {
      "80781489-c8b0-49cf-8da0-5c40f03eebf3": {
       "attrs": {
        "height": 0.8,
        "width": 0.8,
        "x": 0.1,
        "y": 0.1
       },
       "content": {
        "cell": "443f46bb-4d88-4218-8b57-0ce1deb8dac0",
        "part": "whole"
       },
       "id": "80781489-c8b0-49cf-8da0-5c40f03eebf3"
      }
     }
    },
    "41f4272e-776a-4897-8902-f52bd11f2403": {
     "id": "41f4272e-776a-4897-8902-f52bd11f2403",
     "prev": "e1c59565-6cdd-4ae4-97ff-29bf8096a690",
     "regions": {
      "d41986ab-fc7c-4a15-ba0e-d87c64905574": {
       "attrs": {
        "height": 0.8,
        "width": 0.8,
        "x": 0.1,
        "y": 0.1
       },
       "content": {
        "cell": "6cb85cbd-6350-46c2-a60f-da7ba4272b78",
        "part": "whole"
       },
       "id": "d41986ab-fc7c-4a15-ba0e-d87c64905574"
      }
     }
    },
    "53ab1610-6f1a-4fc8-b24b-e40d920d7ceb": {
     "id": "53ab1610-6f1a-4fc8-b24b-e40d920d7ceb",
     "prev": "7185aeb2-0ef0-4273-8e9f-bfb1bf65d603",
     "regions": {
      "346969fd-7bab-463e-b642-181a205b30b3": {
       "attrs": {
        "height": 0.8,
        "width": 0.8,
        "x": 0.1,
        "y": 0.1
       },
       "content": {
        "cell": "14bf700e-8c92-4ade-bb3a-658446ba831e",
        "part": "whole"
       },
       "id": "346969fd-7bab-463e-b642-181a205b30b3"
      }
     }
    },
    "7185aeb2-0ef0-4273-8e9f-bfb1bf65d603": {
     "id": "7185aeb2-0ef0-4273-8e9f-bfb1bf65d603",
     "prev": "75aad04f-fd31-4562-8a88-948385acf4d6",
     "regions": {
      "e32f853b-eaaf-4436-9d53-04c8e5b84a39": {
       "attrs": {
        "height": 0.8,
        "width": 0.8,
        "x": 0.1,
        "y": 0.1
       },
       "content": {
        "cell": "8ab1965a-5c3c-4d8c-84bb-0dc078abfdfd",
        "part": "whole"
       },
       "id": "e32f853b-eaaf-4436-9d53-04c8e5b84a39"
      }
     }
    },
    "75aad04f-fd31-4562-8a88-948385acf4d6": {
     "id": "75aad04f-fd31-4562-8a88-948385acf4d6",
     "prev": "e12a200a-d4bd-4598-acfc-6bcfac7f6144",
     "regions": {
      "e728912b-5975-4726-868c-19692a1bdaa3": {
       "attrs": {
        "height": 0.8,
        "width": 0.8,
        "x": 0.1,
        "y": 0.1
       },
       "content": {
        "cell": "c973a0ad-f5b1-430c-9dca-81a7bddf7b34",
        "part": "whole"
       },
       "id": "e728912b-5975-4726-868c-19692a1bdaa3"
      }
     }
    },
    "9d5a78f0-8f8c-48a6-80f1-b0e5de5d1f58": {
     "id": "9d5a78f0-8f8c-48a6-80f1-b0e5de5d1f58",
     "prev": null,
     "regions": {
      "fbb3ef4a-6e8d-4f4e-89ef-0d0d1d1d4dce": {
       "attrs": {
        "height": 0.8,
        "width": 0.8,
        "x": 0.1,
        "y": 0.1
       },
       "content": {
        "cell": "80243624-0a24-4f0c-a5b2-aa3598627698",
        "part": "whole"
       },
       "id": "fbb3ef4a-6e8d-4f4e-89ef-0d0d1d1d4dce"
      }
     }
    },
    "d1d8c39f-0da5-4c80-8841-2fa1020900a2": {
     "id": "d1d8c39f-0da5-4c80-8841-2fa1020900a2",
     "prev": "0e1bdc0f-c5f8-4d00-9657-4f3a78f0030c",
     "regions": {
      "21e351f5-dc13-4b5f-a8a8-1af11190f04e": {
       "attrs": {
        "height": 0.8,
        "width": 0.8,
        "x": 0.1,
        "y": 0.1
       },
       "content": {
        "cell": "f1cd1110-2114-4693-835c-88a7c8e02cf9",
        "part": "whole"
       },
       "id": "21e351f5-dc13-4b5f-a8a8-1af11190f04e"
      }
     }
    },
    "e12a200a-d4bd-4598-acfc-6bcfac7f6144": {
     "id": "e12a200a-d4bd-4598-acfc-6bcfac7f6144",
     "prev": "9d5a78f0-8f8c-48a6-80f1-b0e5de5d1f58",
     "regions": {
      "92b58e7b-bf92-46bf-8020-34346d7c99c2": {
       "attrs": {
        "height": 0.8,
        "width": 0.8,
        "x": 0.1,
        "y": 0.1
       },
       "content": {
        "cell": "e4c90f27-1165-4bd4-bcea-8ede519f39ee",
        "part": "whole"
       },
       "id": "92b58e7b-bf92-46bf-8020-34346d7c99c2"
      }
     }
    },
    "e1c59565-6cdd-4ae4-97ff-29bf8096a690": {
     "id": "e1c59565-6cdd-4ae4-97ff-29bf8096a690",
     "prev": "28fc96fd-5798-41c0-9388-8651637bd860",
     "regions": {
      "198fd109-8ab1-41cc-9561-ee457745dfb8": {
       "attrs": {
        "height": 0.8,
        "width": 0.8,
        "x": 0.1,
        "y": 0.1
       },
       "content": {
        "cell": "adcfc172-a4b1-4d58-bf93-e75c8743c6d0",
        "part": "whole"
       },
       "id": "198fd109-8ab1-41cc-9561-ee457745dfb8"
      }
     }
    },
    "ee5b6ba5-0721-40fe-b5c7-598aed364a84": {
     "id": "ee5b6ba5-0721-40fe-b5c7-598aed364a84",
     "prev": "d1d8c39f-0da5-4c80-8841-2fa1020900a2",
     "regions": {
      "15f43350-433e-458a-b0eb-f469b372c2c2": {
       "attrs": {
        "height": 0.8,
        "width": 0.8,
        "x": 0.1,
        "y": 0.1
       },
       "content": {
        "cell": "e007a07f-0f59-4564-9504-10914ba806b0",
        "part": "whole"
       },
       "id": "15f43350-433e-458a-b0eb-f469b372c2c2"
      }
     }
    }
   },
   "themes": {}
  }
 },
 "nbformat": 4,
 "nbformat_minor": 1
}
