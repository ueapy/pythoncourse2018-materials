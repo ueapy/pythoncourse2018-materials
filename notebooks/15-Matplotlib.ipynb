{
 "cells": [
  {
   "cell_type": "markdown",
   "metadata": {
    "nbpresent": {
     "id": "80243624-0a24-4f0c-a5b2-aa3598627698"
    }
   },
   "source": [
    "# Matplotlib - Intro"
   ]
  },
  {
   "cell_type": "markdown",
   "metadata": {},
   "source": [
    "* **matplotlib** is a Python plotting library for producing publication quality figures\n",
    "    * allows for interactive, cross-platform control of plots\n",
    "    * makes it easy to produce static raster or vector graphics files without the need for a GUI\n",
    "        * gives the developer complete control over the appearance of their plots, while still being usable through a powerful defaults system\n",
    "* standard scientific plotting library\n",
    "* online documentnation is on [matplotlib.org](https://matplotlib.org/index.html), with lots of examples in the [gallery](https://matplotlib.org/gallery.html)\n",
    "\n",
    "* behaves similarly to Matlab"
   ]
  },
  {
   "cell_type": "code",
   "execution_count": 6,
   "metadata": {},
   "outputs": [],
   "source": [
    "import matplotlib"
   ]
  },
  {
   "cell_type": "code",
   "execution_count": 7,
   "metadata": {},
   "outputs": [],
   "source": [
    "# matplotlib. # Tab"
   ]
  },
  {
   "cell_type": "code",
   "execution_count": 8,
   "metadata": {},
   "outputs": [
    {
     "name": "stdout",
     "output_type": "stream",
     "text": [
      "Object `matplotlib.pyplot` not found.\n"
     ]
    }
   ],
   "source": [
    "matplotlib.pyplot?"
   ]
  },
  {
   "cell_type": "code",
   "execution_count": 9,
   "metadata": {},
   "outputs": [],
   "source": [
    "import matplotlib.pyplot as plt"
   ]
  },
  {
   "cell_type": "markdown",
   "metadata": {},
   "source": [
    "To be efficient with **matplotlib**, you first need to understand its termonology."
   ]
  },
  {
   "cell_type": "markdown",
   "metadata": {},
   "source": [
    "## Parts of a Figure"
   ]
  },
  {
   "cell_type": "markdown",
   "metadata": {},
   "source": [
    "![](../figures/matplotlib_figure_parts.png)"
   ]
  },
  {
   "cell_type": "markdown",
   "metadata": {},
   "source": [
    "### Figure, Axes, Axis"
   ]
  },
  {
   "cell_type": "markdown",
   "metadata": {},
   "source": [
    "* **Figure** is the whole image, the top-level 'container' that holds all objects of an image.\n",
    "* **Axes** is the region of a **Figure** that displays your data. Most plotting occurs here!\n",
    "* **Axes** contains two (or three in the case of 3D) **Axis** objects which control the data limits.\n",
    "* **Figure** can have any number of **Axes**, but to be useful should have at least one."
   ]
  },
  {
   "cell_type": "code",
   "execution_count": 10,
   "metadata": {},
   "outputs": [
    {
     "data": {
      "text/plain": [
       "<matplotlib.figure.Figure at 0x7fa63354feb8>"
      ]
     },
     "metadata": {},
     "output_type": "display_data"
    }
   ],
   "source": [
    "fig = plt.figure() # an empty Figure with no Axes"
   ]
  },
  {
   "cell_type": "code",
   "execution_count": 11,
   "metadata": {},
   "outputs": [
    {
     "data": {
      "text/plain": [
       "[]"
      ]
     },
     "execution_count": 11,
     "metadata": {},
     "output_type": "execute_result"
    }
   ],
   "source": [
    "fig.axes # check if Figure has Axes (no)"
   ]
  },
  {
   "cell_type": "code",
   "execution_count": 12,
   "metadata": {},
   "outputs": [
    {
     "data": {
      "image/png": "[encoded data removed]",
      "text/plain": [
       "<matplotlib.figure.Figure at 0x7fa6332479b0>"
      ]
     },
     "metadata": {},
     "output_type": "display_data"
    }
   ],
   "source": [
    "fig = plt.figure()\n",
    "axes = fig.add_subplot(111) # add one Axes to Figure"
   ]
  },
  {
   "cell_type": "code",
   "execution_count": 13,
   "metadata": {},
   "outputs": [
    {
     "data": {
      "text/plain": [
       "[<matplotlib.axes._subplots.AxesSubplot at 0x7fa633247978>]"
      ]
     },
     "execution_count": 13,
     "metadata": {},
     "output_type": "execute_result"
    }
   ],
   "source": [
    "fig.axes # check if Figure has Axes (yes)"
   ]
  },
  {
   "cell_type": "markdown",
   "metadata": {},
   "source": [
    "Usually an **Axes** is set up with a call to `fig.add_subplot()`, `plt.subplot()`, or `plt.subplots()` in case of multiple **Axes**, so in most cases, **Axes** and **subplot** are synonymous.\n",
    "\n",
    "There are many ways to create a single subplot:\n",
    "1. `fig = plt.figure()\n",
    "axes = fig.add_subplot(111)`\n",
    "2. `plt.plot()` - the simplest way, good for a quick look at your data\n",
    "3. `plt.subplot()`\n",
    "4. `plt.subplots()`\n",
    "\n",
    "To create multiple subplots (e.g. 2 rows, 1 column):\n",
    "1. `fig = plt.figure()\n",
    "axes1 = fig.add_subplot(211)\n",
    "axes2 = fig.add_subplot(212)`\n",
    "2. `plt.subplots(2, 1)`\n",
    "3. `fig, axes = plt.subplots(2, 1)` - the most flexible way"
   ]
  },
  {
   "cell_type": "markdown",
   "metadata": {},
   "source": [
    "**Exercise 0 (5 mins)**. Create single and multiple empty subplots by using different functions. You will see that in each case a different set objects is created along with an image, try to explain why."
   ]
  },
  {
   "cell_type": "code",
   "execution_count": 14,
   "metadata": {},
   "outputs": [],
   "source": [
    "# Your code here"
   ]
  },
  {
   "cell_type": "code",
   "execution_count": 15,
   "metadata": {},
   "outputs": [
    {
     "data": {
      "text/plain": [
       "[]"
      ]
     },
     "execution_count": 15,
     "metadata": {},
     "output_type": "execute_result"
    },
    {
     "data": {
      "image/png": "[encoded data removed]",
      "text/plain": [
       "<matplotlib.figure.Figure at 0x7fa633266b38>"
      ]
     },
     "metadata": {},
     "output_type": "display_data"
    }
   ],
   "source": [
    "# Solution\n",
    "plt.plot()"
   ]
  },
  {
   "cell_type": "code",
   "execution_count": 16,
   "metadata": {},
   "outputs": [
    {
     "data": {
      "text/plain": [
       "[<matplotlib.lines.Line2D at 0x7fa631105a58>]"
      ]
     },
     "execution_count": 16,
     "metadata": {},
     "output_type": "execute_result"
    },
    {
     "data": {
      "image/png": "[encoded data removed]",
      "text/plain": [
       "<matplotlib.figure.Figure at 0x7fa631183898>"
      ]
     },
     "metadata": {},
     "output_type": "display_data"
    }
   ],
   "source": [
    "plt.plot(10)"
   ]
  },
  {
   "cell_type": "code",
   "execution_count": 17,
   "metadata": {},
   "outputs": [
    {
     "data": {
      "text/plain": [
       "<matplotlib.axes._subplots.AxesSubplot at 0x7fa6311a5a20>"
      ]
     },
     "execution_count": 17,
     "metadata": {},
     "output_type": "execute_result"
    },
    {
     "data": {
      "image/png": "[encoded data removed]",
      "text/plain": [
       "<matplotlib.figure.Figure at 0x7fa631163668>"
      ]
     },
     "metadata": {},
     "output_type": "display_data"
    }
   ],
   "source": [
    "plt.subplot()"
   ]
  },
  {
   "cell_type": "code",
   "execution_count": 18,
   "metadata": {},
   "outputs": [
    {
     "data": {
      "text/plain": [
       "(<matplotlib.figure.Figure at 0x7fa6310c6588>,\n",
       " <matplotlib.axes._subplots.AxesSubplot at 0x7fa6310e9b38>)"
      ]
     },
     "execution_count": 18,
     "metadata": {},
     "output_type": "execute_result"
    },
    {
     "data": {
      "image/png": "[encoded data removed]",
      "text/plain": [
       "<matplotlib.figure.Figure at 0x7fa6310c6588>"
      ]
     },
     "metadata": {},
     "output_type": "display_data"
    }
   ],
   "source": [
    "plt.subplots()"
   ]
  },
  {
   "cell_type": "code",
   "execution_count": 19,
   "metadata": {},
   "outputs": [
    {
     "data": {
      "text/plain": [
       "(<matplotlib.figure.Figure at 0x7fa63103f160>,\n",
       " array([<matplotlib.axes._subplots.AxesSubplot object at 0x7fa63108e048>,\n",
       "        <matplotlib.axes._subplots.AxesSubplot object at 0x7fa63100c2e8>],\n",
       "       dtype=object))"
      ]
     },
     "execution_count": 19,
     "metadata": {},
     "output_type": "execute_result"
    },
    {
     "data": {
      "image/png": "[encoded data removed]",
      "text/plain": [
       "<matplotlib.figure.Figure at 0x7fa63103f160>"
      ]
     },
     "metadata": {},
     "output_type": "display_data"
    }
   ],
   "source": [
    "plt.subplots(2, 1)"
   ]
  },
  {
   "cell_type": "code",
   "execution_count": 20,
   "metadata": {
    "scrolled": true
   },
   "outputs": [
    {
     "data": {
      "image/png": "[encoded data removed]",
      "text/plain": [
       "<matplotlib.figure.Figure at 0x7fa6310167f0>"
      ]
     },
     "metadata": {},
     "output_type": "display_data"
    }
   ],
   "source": [
    "fig, axes = plt.subplots(2, 1)"
   ]
  },
  {
   "cell_type": "markdown",
   "metadata": {},
   "source": [
    "Exlanation.\n",
    "1. `fig = plt.figure()\n",
    "axes = fig.add_subplot(111)`\n",
    "\n",
    "    There is no extra text in the cell output, because both **Figure** and **Axes** objects are assinged to variables, fig and axes.\n",
    "    \n",
    "2. `plt.plot()` with no arguments assumes that the input data is an empty list and treats it as a (0, 0) point, then it scales the axes to zoom in on that one data point.\n",
    "     \n",
    "3. `plt.subplot()` uses the concept of the current figure (.gcf()), like Matlab. It applies changes to the current figure, namely adds an **Axes**.\n",
    "\n",
    "4. `plt.subplots(2, 1)` creates a **Figure** and two **Axes**.\n",
    "\n",
    "5. `fig, axes = plt.subplots(2, 1)` does the same as plt.subplots(2, 1), but a **Figure** object is assigned to a variable fig, and list of two **Axes** is assigned to a variable axes."
   ]
  },
  {
   "cell_type": "markdown",
   "metadata": {},
   "source": [
    "Lets draw two cosine functions of different amplitude on the same **Axes**."
   ]
  },
  {
   "cell_type": "code",
   "execution_count": 21,
   "metadata": {},
   "outputs": [],
   "source": [
    "import numpy as np"
   ]
  },
  {
   "cell_type": "code",
   "execution_count": 22,
   "metadata": {},
   "outputs": [],
   "source": [
    "# Create data\n",
    "X = np.linspace(-np.pi, np.pi, 100, endpoint=True)\n",
    "Y1 = np.cos(X)\n",
    "Y2 = 2*np.cos(X)"
   ]
  },
  {
   "cell_type": "code",
   "execution_count": 23,
   "metadata": {},
   "outputs": [
    {
     "data": {
      "image/png": "[encoded data removed]",
      "text/plain": [
       "<matplotlib.figure.Figure at 0x7fa630f8d4e0>"
      ]
     },
     "metadata": {},
     "output_type": "display_data"
    }
   ],
   "source": [
    "# Plot data\n",
    "fig, axes = plt.subplots()\n",
    "axes.plot(X, Y1)\n",
    "axes.plot(X, Y2);"
   ]
  },
  {
   "cell_type": "markdown",
   "metadata": {},
   "source": [
    "** Tip: by adding a semicolon at the end of a function, the output is suppressed."
   ]
  },
  {
   "cell_type": "markdown",
   "metadata": {},
   "source": [
    "### Default and named colors"
   ]
  },
  {
   "cell_type": "markdown",
   "metadata": {},
   "source": [
    "![](../figures/dflt_style_changes-1.png)"
   ]
  },
  {
   "cell_type": "markdown",
   "metadata": {},
   "source": [
    "![](../figures/named_colors.png)"
   ]
  },
  {
   "cell_type": "markdown",
   "metadata": {},
   "source": [
    "**Exercise 1 (10 mins)**. The figure before is generated using the default settings. The code below shows these settings explicitly. Play with the values to explore their affect."
   ]
  },
  {
   "cell_type": "code",
   "execution_count": 24,
   "metadata": {},
   "outputs": [
    {
     "data": {
      "image/png": "[encoded data removed]",
      "text/plain": [
       "<matplotlib.figure.Figure at 0x7fa630f28cf8>"
      ]
     },
     "metadata": {},
     "output_type": "display_data"
    }
   ],
   "source": [
    "# Plot data (with explicit plotting settings)\n",
    "fig, axes = plt.subplots(nrows=1, ncols=1, figsize=(6,4))\n",
    "axes.plot(X, Y1, color='C0', linewidth=1.5, linestyle='-');\n",
    "axes.plot(X, Y2, color='C1', linewidth=1.5, linestyle='-');\n",
    "axes.set_xlim(-3.7, 3.7)\n",
    "axes.set_ylim(-2.2, 2.2)\n",
    "axes.set_xticks(np.linspace(-3,3,7,endpoint=True));\n",
    "axes.set_yticks(np.linspace(-2,2,9,endpoint=True));"
   ]
  },
  {
   "cell_type": "markdown",
   "metadata": {},
   "source": [
    "** Tip: use Shift+Tab on `axes.method_of_your_choice()` to call a `docstring` to see what else you can change."
   ]
  },
  {
   "cell_type": "code",
   "execution_count": 25,
   "metadata": {},
   "outputs": [],
   "source": [
    "# Your code here"
   ]
  },
  {
   "cell_type": "code",
   "execution_count": 26,
   "metadata": {},
   "outputs": [
    {
     "data": {
      "image/png": "[encoded data removed]",
      "text/plain": [
       "<matplotlib.figure.Figure at 0x7fa630e48438>"
      ]
     },
     "metadata": {},
     "output_type": "display_data"
    }
   ],
   "source": [
    "# Solution\n",
    "# Plot data (with explicit plotting settings)\n",
    "fig, axes = plt.subplots(nrows=1, ncols=1, figsize=(8,4))\n",
    "axes.plot(X, Y1, color='r', linewidth=4, linestyle='--');\n",
    "axes.plot(X, Y2, color='b', linewidth=2, linestyle='-.');\n",
    "axes.set_xlim(-8, 8)\n",
    "axes.set_ylim(-3, 3)\n",
    "axes.set_xticks(np.linspace(-4,4,9,endpoint=True));\n",
    "axes.set_yticks(np.linspace(-3,3,11,endpoint=True));"
   ]
  },
  {
   "cell_type": "markdown",
   "metadata": {},
   "source": [
    "**Exercise 2 (10 mins)**. Having integer numbers on the x axis here might divert reader's attention from the critical points of the graph.\n",
    "\n",
    "1. Change **xticks** and **xticklabels** into multiples of $\\pi$. Use `axes.set_xticks()` and `axes.set_xticklabels()`.\n",
    "2. Reduce the number of shown y values to -2, -1, 0, 1, 2. Use `axes.set_yticks()`.\n",
    "\n",
    "\\*\\* Tip: use `np.pi` for **xticks** and '\\$\\pi$' for **xticklabels**."
   ]
  },
  {
   "cell_type": "code",
   "execution_count": 27,
   "metadata": {},
   "outputs": [],
   "source": [
    "# Your code here"
   ]
  },
  {
   "cell_type": "code",
   "execution_count": 28,
   "metadata": {},
   "outputs": [
    {
     "data": {
      "image/png": "[encoded data removed]",
      "text/plain": [
       "<matplotlib.figure.Figure at 0x7fa630e08828>"
      ]
     },
     "metadata": {},
     "output_type": "display_data"
    }
   ],
   "source": [
    "# Solution\n",
    "# Change xticks, yticks and xticklabels\n",
    "fig, axes = plt.subplots()\n",
    "axes.plot(X, Y1);\n",
    "axes.plot(X, Y2);\n",
    "\n",
    "axes.set_xticks([-np.pi, -np.pi/2, 0, np.pi/2, np.pi]);\n",
    "axes.set_yticks([-2, -1, 0, 1, 2]);\n",
    "axes.set_xticklabels(['$-\\pi$', '$-\\pi/2$', '$0$', '$+\\pi/2$', '$+\\pi$']);"
   ]
  },
  {
   "cell_type": "markdown",
   "metadata": {},
   "source": [
    "**Exersise 3 (5 mins)**. Lets move the center of the coordinate system (the origin) to (0,0). For that we need to work with the **spines**, lines connecting the axis tick marks and noting the boundaries of the data area.\n",
    "1. Use `axes.spines` attribute. \n",
    "2. Hide two out of four spines (say, top and right) by setting the edgecolor of the spines to 'none'. Use `.set_color()`.\n",
    "3. Intersect the other two spines (0,0) by using `.set_position()`.\n",
    "\n",
    "** Tip: visit [spines](https://matplotlib.org/api/spines_api.html)."
   ]
  },
  {
   "cell_type": "code",
   "execution_count": null,
   "metadata": {},
   "outputs": [],
   "source": [
    "# Your code here"
   ]
  },
  {
   "cell_type": "code",
   "execution_count": 30,
   "metadata": {},
   "outputs": [
    {
     "data": {
      "image/png": "[encoded data removed]",
      "text/plain": [
       "<matplotlib.figure.Figure at 0x7fa630d30240>"
      ]
     },
     "metadata": {},
     "output_type": "display_data"
    }
   ],
   "source": [
    "# Solution\n",
    "# Move origin to (0,0)\n",
    "fig, axes = plt.subplots()\n",
    "axes.plot(X, Y1);\n",
    "axes.plot(X, Y2);\n",
    "axes.set_xticks([-np.pi, -np.pi/2, 0, np.pi/2, np.pi]);\n",
    "axes.set_yticks([-2, -1, 0, 1, 2]);\n",
    "axes.set_xticklabels([r'$-\\pi$', r'$-\\pi/2$', r'$0$', r'$+\\pi/2$', r'$+\\pi$']);\n",
    "\n",
    "axes.spines['right'].set_color('none')\n",
    "axes.spines['top'].set_color('none')\n",
    "axes.spines['bottom'].set_position('zero')\n",
    "axes.spines['left'].set_position('zero')"
   ]
  },
  {
   "cell_type": "markdown",
   "metadata": {},
   "source": [
    "**Exersise 4 (5 mins)**. Add a legend.\n",
    "1. Give both cosine functions a name by adding an extra keyword argument, a label, to `axes.plot()`.\n",
    "2. Add a legend object to **Axes**. "
   ]
  },
  {
   "cell_type": "code",
   "execution_count": null,
   "metadata": {},
   "outputs": [],
   "source": [
    "# Your code here"
   ]
  },
  {
   "cell_type": "code",
   "execution_count": 31,
   "metadata": {},
   "outputs": [
    {
     "data": {
      "image/png": "[encoded data removed]",
      "text/plain": [
       "<matplotlib.figure.Figure at 0x7fa6306f5208>"
      ]
     },
     "metadata": {},
     "output_type": "display_data"
    }
   ],
   "source": [
    "# Solution\n",
    "# Add legend\n",
    "fig, axes = plt.subplots()\n",
    "axes.plot(X, Y1, label='cos(x)');\n",
    "axes.plot(X, Y2, label='2cos(x)');\n",
    "axes.set_xticks([-np.pi, -np.pi/2, 0, np.pi/2, np.pi]);\n",
    "axes.set_yticks([-2, -1, 0, 1, 2]);\n",
    "axes.set_xticklabels([r'$-\\pi$', r'$-\\pi/2$', r'$0$', r'$+\\pi/2$', r'$+\\pi$']);\n",
    "axes.spines['right'].set_color('none')\n",
    "axes.spines['top'].set_color('none')\n",
    "axes.spines['bottom'].set_position('zero')\n",
    "axes.spines['left'].set_position('zero')\n",
    "\n",
    "axes.legend(loc='upper left', frameon=False);"
   ]
  },
  {
   "cell_type": "markdown",
   "metadata": {},
   "source": [
    "**Exercise 5 (10 mins)**. Annotate an interesting point on a graph, for example, $2\\cos(\\frac{\\pi}{4})$.\n",
    "1. Add a single point to the graph by using `axes.plot(..., marker='o')`.\n",
    "2. Use `axes.annotate(s, xy=..., xytext=...)` to add annotation.\n",
    "\n",
    "** Tip: in Latex, $2\\cos(\\frac{\\pi}{4})$ is \\$2\\cos(\\frac{\\pi}{4})$. What is it equal to?\n",
    "\n",
    "** Tip: visit [annotations](https://matplotlib.org/users/annotations_intro.html)."
   ]
  },
  {
   "cell_type": "code",
   "execution_count": 32,
   "metadata": {},
   "outputs": [],
   "source": [
    "# Your code here"
   ]
  },
  {
   "cell_type": "code",
   "execution_count": 33,
   "metadata": {},
   "outputs": [
    {
     "data": {
      "image/png": "[encoded data removed]",
      "text/plain": [
       "<matplotlib.figure.Figure at 0x7fa630faa3c8>"
      ]
     },
     "metadata": {},
     "output_type": "display_data"
    }
   ],
   "source": [
    "# Solution\n",
    "# Hightlight and annotate a point\n",
    "fig, axes = plt.subplots()\n",
    "axes.plot(X, Y1, label='cos(x)');\n",
    "axes.plot(X, Y2, label='2cos(x)');\n",
    "axes.set_xticks([-np.pi, -np.pi/2, 0, np.pi/2, np.pi]);\n",
    "axes.set_yticks([-2, -1, 0, 1, 2]);\n",
    "axes.set_xticklabels([r'$-\\pi$', r'$-\\pi/2$', r'$0$', r'$+\\pi/2$', r'$+\\pi$']);\n",
    "axes.spines['right'].set_color('none')\n",
    "axes.spines['top'].set_color('none')\n",
    "axes.spines['bottom'].set_position('zero')\n",
    "axes.spines['left'].set_position('zero')\n",
    "axes.legend(loc='upper left', frameon=False);\n",
    "\n",
    "point = np.pi/4\n",
    "axes.plot(point, 2*np.cos(point), marker='o');\n",
    "axes.annotate(r'$2\\cos(\\frac{\\pi}{4})=\\sqrt{2}$', xy=(point, 2*np.cos(point)), xytext=(1, 1.5), fontsize=16);"
   ]
  },
  {
   "cell_type": "markdown",
   "metadata": {},
   "source": [
    "### Multiple subplots"
   ]
  },
  {
   "cell_type": "markdown",
   "metadata": {},
   "source": [
    "Intro here."
   ]
  },
  {
   "cell_type": "code",
   "execution_count": null,
   "metadata": {},
   "outputs": [],
   "source": [
    "fig, axs = plt.subplots(nrows=2, ncols=3, figsize=(15,5))"
   ]
  },
  {
   "cell_type": "code",
   "execution_count": null,
   "metadata": {},
   "outputs": [],
   "source": [
    "axs"
   ]
  },
  {
   "cell_type": "code",
   "execution_count": null,
   "metadata": {},
   "outputs": [],
   "source": [
    "type(axs), axs.shape"
   ]
  },
  {
   "cell_type": "code",
   "execution_count": null,
   "metadata": {},
   "outputs": [],
   "source": [
    "fig, axes = plt.subplots(nrows=2, ncols=3, figsize=(15,5))\n",
    "axes[0,0].set_title('subplot(0,0)', fontsize=18);\n",
    "axes[0,1].set_title('subplot(0,1)', fontsize=18);\n",
    "axes[0,2].set_title('subplot(0,2)', fontsize=18);\n",
    "axes[1,0].set_title('subplot(1,0)', fontsize=18);\n",
    "axes[1,1].set_title('subplot(1,1)', fontsize=18);\n",
    "axes[1,2].set_title('subplot(1,2)', fontsize=18);\n",
    "\n",
    "for ax in axes.flat:\n",
    "    ax.set_xticks([]);\n",
    "    ax.set_yticks([]);"
   ]
  },
  {
   "cell_type": "markdown",
   "metadata": {},
   "source": [
    "Read monthly averages (Data source: https://www.esrl.noaa.gov/gmd/dv/data/)\n",
    "\n",
    "Data description.\n",
    "\n",
    "* alt = Alert, Nunavut, Canada (ALT)\n",
    "* cgo = Cape Grim, Tasmania, Australia (CGO)\n",
    "* mhd = Mace Head, County Galway, Ireland (MHD)\n",
    "* mlo = Mauna Loa, Hawaii, United States (MLO)\n",
    "\n",
    "...\n",
    "\n",
    "The isotope ratios are reported as delta values (written here as \"d\") where d13C = [(13C/12Csample/(13C/12Cstandard/)-1] x 1000.Delta values are reported in units of per mil."
   ]
  },
  {
   "cell_type": "markdown",
   "metadata": {},
   "source": [
    "#### Kwargs"
   ]
  },
  {
   "cell_type": "markdown",
   "metadata": {},
   "source": [
    "* Saves space and time!\n",
    "* Store keyword (optional) arguments in a dictionary and unpack this dictionary inside a function."
   ]
  },
  {
   "cell_type": "code",
   "execution_count": null,
   "metadata": {},
   "outputs": [],
   "source": [
    "# Kwargs\n",
    "alt_read_data_kwargs = dict(skip_header=69, usecols=(1, 2, 3), unpack=True)\n",
    "cgo_read_data_kwargs = dict(skip_header=68, usecols=(1, 2, 3), unpack=True)\n",
    "mhd_read_data_kwargs = dict(skip_header=68, usecols=(1, 2, 3), unpack=True)\n",
    "mlo_read_data_kwargs = dict(skip_header=70, usecols=(1, 2, 3), unpack=True)"
   ]
  },
  {
   "cell_type": "code",
   "execution_count": null,
   "metadata": {},
   "outputs": [],
   "source": [
    "# Read data\n",
    "# CO2 \n",
    "alt_co2_yr, alt_co2_mn, alt_co2_val = np.genfromtxt('../data/co2_alt_surface-flask_1_ccgg_month.txt', **alt_read_data_kwargs)\n",
    "cgo_co2_yr, cgo_co2_mn, cgo_co2_val = np.genfromtxt('../data/co2_cgo_surface-flask_1_ccgg_month.txt', **cgo_read_data_kwargs)\n",
    "mhd_co2_yr, mhd_co2_mn, mhd_co2_val = np.genfromtxt('../data/co2_mhd_surface-flask_1_ccgg_month.txt', **mhd_read_data_kwargs)\n",
    "mlo_co2_yr, mlo_co2_mn, mlo_co2_val = np.genfromtxt('../data/co2_mlo_surface-flask_1_ccgg_month.txt', **mlo_read_data_kwargs)\n",
    "# C13/C12 in CO2 (d13C (CO2))\n",
    "alt_co2c13_yr, alt_co2c13_mn, alt_co2c13_val = np.genfromtxt('../data/co2c13_alt_surface-flask_1_sil_month.txt', **alt_read_data_kwargs)\n",
    "cgo_co2c13_yr, cgo_co2c13_mn, cgo_co2c13_val = np.genfromtxt('../data/co2c13_cgo_surface-flask_1_sil_month.txt', **cgo_read_data_kwargs)\n",
    "mhd_co2c13_yr, mhd_co2c13_mn, mhd_co2c13_val = np.genfromtxt('../data/co2c13_mhd_surface-flask_1_sil_month.txt', **mhd_read_data_kwargs)\n",
    "mlo_co2c13_yr, mlo_co2c13_mn, mlo_co2c13_val = np.genfromtxt('../data/co2c13_mlo_surface-flask_1_sil_month.txt', **mlo_read_data_kwargs)\n",
    "# CH4\n",
    "alt_ch4_yr, alt_ch4_mn, alt_ch4_val = np.genfromtxt('../data/ch4_alt_surface-flask_1_ccgg_month.txt', **alt_read_data_kwargs)\n",
    "cgo_ch4_yr, cgo_ch4_mn, cgo_ch4_val = np.genfromtxt('../data/ch4_cgo_surface-flask_1_ccgg_month.txt', **cgo_read_data_kwargs)\n",
    "mhd_ch4_yr, mhd_ch4_mn, mhd_ch4_val = np.genfromtxt('../data/ch4_mhd_surface-flask_1_ccgg_month.txt', **mhd_read_data_kwargs)\n",
    "mlo_ch4_yr, mlo_ch4_mn, mlo_ch4_val = np.genfromtxt('../data/ch4_mlo_surface-flask_1_ccgg_month.txt', **mlo_read_data_kwargs)\n",
    "# C13/C12 in CH4 (d13C (CH4))\n",
    "alt_ch4c13_yr, alt_ch4c13_mn, alt_ch4c13_val = np.genfromtxt('../data/ch4c13_alt_surface-flask_1_sil_month.txt', **alt_read_data_kwargs)\n",
    "cgo_ch4c13_yr, cgo_ch4c13_mn, cgo_ch4c13_val = np.genfromtxt('../data/ch4c13_cgo_surface-flask_1_sil_month.txt', **cgo_read_data_kwargs)\n",
    "mhd_ch4c13_yr, mhd_ch4c13_mn, mhd_ch4c13_val = np.genfromtxt('../data/ch4c13_mhd_surface-flask_1_sil_month.txt', **mhd_read_data_kwargs)\n",
    "mlo_ch4c13_yr, mlo_ch4c13_mn, mlo_ch4c13_val = np.genfromtxt('../data/ch4c13_mlo_surface-flask_1_sil_month.txt', **mlo_read_data_kwargs)"
   ]
  },
  {
   "cell_type": "markdown",
   "metadata": {},
   "source": [
    "#### Datetime\n",
    "\n",
    "* 'datetime' module helps to work with time arrays"
   ]
  },
  {
   "cell_type": "code",
   "execution_count": null,
   "metadata": {},
   "outputs": [],
   "source": [
    "from datetime import datetime"
   ]
  },
  {
   "cell_type": "markdown",
   "metadata": {},
   "source": [
    "More explanation here."
   ]
  },
  {
   "cell_type": "code",
   "execution_count": null,
   "metadata": {},
   "outputs": [],
   "source": [
    "# ... using list comprehension\n",
    "alt_co2_time = [datetime(int(i), int(j), 1) for i, j in zip(alt_co2_yr, alt_co2_mn)]"
   ]
  },
  {
   "cell_type": "code",
   "execution_count": null,
   "metadata": {},
   "outputs": [],
   "source": [
    "# Same as previous cell but using a for loop\n",
    "alt_time = []\n",
    "for i, j in zip(alt_co2_yr, alt_co2_mn):\n",
    "    alt_time.append(datetime(int(i), int(j), 1))"
   ]
  },
  {
   "cell_type": "code",
   "execution_count": null,
   "metadata": {},
   "outputs": [],
   "source": [
    "cgo_co2_time = [datetime(int(i), int(j), 1) for i, j in zip(cgo_co2_yr, cgo_co2_mn)]\n",
    "mhd_co2_time = [datetime(int(i), int(j), 1) for i, j in zip(mhd_co2_yr, mhd_co2_mn)]\n",
    "mlo_co2_time = [datetime(int(i), int(j), 1) for i, j in zip(mlo_co2_yr, mlo_co2_mn)]\n",
    "\n",
    "alt_co2c13_time = [datetime(int(i), int(j), 1) for i, j in zip(alt_co2c13_yr, alt_co2c13_mn)]\n",
    "cgo_co2c13_time = [datetime(int(i), int(j), 1) for i, j in zip(cgo_co2c13_yr, cgo_co2c13_mn)]\n",
    "mhd_co2c13_time = [datetime(int(i), int(j), 1) for i, j in zip(mhd_co2c13_yr, mhd_co2c13_mn)]\n",
    "mlo_co2c13_time = [datetime(int(i), int(j), 1) for i, j in zip(mlo_co2c13_yr, mlo_co2c13_mn)]\n",
    "\n",
    "alt_ch4_time = [datetime(int(i), int(j), 1) for i, j in zip(alt_ch4_yr, alt_ch4_mn)]\n",
    "cgo_ch4_time = [datetime(int(i), int(j), 1) for i, j in zip(cgo_ch4_yr, cgo_ch4_mn)]\n",
    "mhd_ch4_time = [datetime(int(i), int(j), 1) for i, j in zip(mhd_ch4_yr, mhd_ch4_mn)]\n",
    "mlo_ch4_time = [datetime(int(i), int(j), 1) for i, j in zip(mlo_ch4_yr, mlo_ch4_mn)]\n",
    "\n",
    "alt_ch4c13_time = [datetime(int(i), int(j), 1) for i, j in zip(alt_ch4c13_yr, alt_ch4c13_mn)]\n",
    "cgo_ch4c13_time = [datetime(int(i), int(j), 1) for i, j in zip(cgo_ch4c13_yr, cgo_ch4c13_mn)]\n",
    "mhd_ch4c13_time = [datetime(int(i), int(j), 1) for i, j in zip(mhd_ch4c13_yr, mhd_ch4c13_mn)]\n",
    "mlo_ch4c13_time = [datetime(int(i), int(j), 1) for i, j in zip(mlo_ch4c13_yr, mlo_ch4c13_mn)]"
   ]
  },
  {
   "cell_type": "markdown",
   "metadata": {},
   "source": [
    "**Exercise 6 (20-30 mins)**. Construct four subplots using the arrays created above. Add titles, x and y labels, legend. Play with optional arguments of .plot() and try to use 'kwargs'."
   ]
  },
  {
   "cell_type": "code",
   "execution_count": null,
   "metadata": {},
   "outputs": [],
   "source": [
    "# Your code here"
   ]
  },
  {
   "cell_type": "code",
   "execution_count": null,
   "metadata": {},
   "outputs": [],
   "source": [
    "# Solution\n",
    "# plt.rcParams['mathtext.default'] = 'regular'\n",
    "\n",
    "alt_kwargs = dict(label='Alert', color='C9', linestyle='-')\n",
    "cgo_kwargs = dict(label='Cape Grim', color='C3', linestyle='-')\n",
    "mhd_kwargs = dict(label='Mace Head', color='C7', linestyle='-')\n",
    "mlo_kwargs = dict(label='Mauna Loa', color='C8', linestyle='-')\n",
    "\n",
    "fig, axes = plt.subplots(nrows=2, ncols=2, figsize=(15,9), sharex=True)\n",
    "axes[0,0].plot(alt_co2_time, alt_co2_val, **alt_kwargs);\n",
    "axes[0,1].plot(alt_co2c13_time, alt_co2c13_val, **alt_kwargs);\n",
    "axes[1,0].plot(alt_ch4_time, alt_ch4_val, **alt_kwargs);\n",
    "axes[1,1].plot(alt_ch4c13_time, alt_ch4c13_val, **alt_kwargs);\n",
    "\n",
    "axes[0,0].plot(cgo_co2_time, cgo_co2_val, **cgo_kwargs);\n",
    "axes[0,1].plot(cgo_co2c13_time, cgo_co2c13_val, **cgo_kwargs);\n",
    "axes[1,0].plot(cgo_ch4_time, cgo_ch4_val, **cgo_kwargs);\n",
    "axes[1,1].plot(cgo_ch4c13_time, cgo_ch4c13_val, **cgo_kwargs);\n",
    "\n",
    "axes[0,0].plot(mhd_co2_time, mhd_co2_val, **mhd_kwargs);\n",
    "axes[0,1].plot(mhd_co2c13_time, mhd_co2c13_val, **mhd_kwargs);\n",
    "axes[1,0].plot(mhd_ch4_time, mhd_ch4_val, **mhd_kwargs);\n",
    "axes[1,1].plot(mhd_ch4c13_time, mhd_ch4c13_val, **mhd_kwargs);\n",
    "\n",
    "axes[0,0].plot(mlo_co2_time, mlo_co2_val, **mlo_kwargs);\n",
    "axes[0,1].plot(mlo_co2c13_time, mlo_co2c13_val, **mlo_kwargs);\n",
    "axes[1,0].plot(mlo_ch4_time, mlo_ch4_val, **mlo_kwargs);\n",
    "axes[1,1].plot(mlo_ch4c13_time, mlo_ch4c13_val, **mlo_kwargs);\n",
    "\n",
    "axes[0,0].set_title('$CO_{2}$');\n",
    "axes[0,1].set_title('$\\delta^{13}C/CO_{2}$');\n",
    "axes[1,0].set_title('$CH_{4}$');\n",
    "axes[1,1].set_title('$\\delta^{13}C/CH_{4}$');\n",
    "\n",
    "axes[0,0].set_ylabel('ppm');\n",
    "axes[0,1].set_ylabel('‰'); # hold down the ALT key and type 0137 on the keypad\n",
    "axes[1,0].set_ylabel('ppb');\n",
    "axes[1,1].set_ylabel('‰');\n",
    "\n",
    "axes[0,0].legend();"
   ]
  },
  {
   "cell_type": "code",
   "execution_count": null,
   "metadata": {},
   "outputs": [],
   "source": [
    "# Plan:\n",
    "# * Contour plots, emphasis on common colorbars\n",
    "# * Bar charts?\n",
    "# * Task: reproduce a given figure"
   ]
  },
  {
   "cell_type": "code",
   "execution_count": null,
   "metadata": {},
   "outputs": [],
   "source": [
    "# The revised part of this notebook stops here. Below is the unrevised code from year 2016."
   ]
  },
  {
   "cell_type": "code",
   "execution_count": null,
   "metadata": {},
   "outputs": [],
   "source": [
    "break"
   ]
  },
  {
   "cell_type": "markdown",
   "metadata": {
    "nbpresent": {
     "id": "8ab1965a-5c3c-4d8c-84bb-0dc078abfdfd"
    }
   },
   "source": [
    "\n",
    "# Exercise 1\n",
    "\n",
    "## Now lets have a look at some real data! \n"
   ]
  },
  {
   "cell_type": "code",
   "execution_count": null,
   "metadata": {
    "nbpresent": {
     "id": "14bf700e-8c92-4ade-bb3a-658446ba831e"
    }
   },
   "outputs": [],
   "source": [
    "# First of all, lets read some data from a CSV file. \n",
    "#\"Figure 1. Average Global Sea Surface Temperature, 1880-2015\",,,\n",
    "#Source: EPA's Climate Change Indicators in the United States: www.epa.gov/climate-indicators,,,\"Data source: NOAA, 2016\",,,\n",
    "# Units: temperature anomaly (°F),,,\n",
    "# https://www.epa.gov/sites/production/files/2016-08/sea-surface-temp_fig-1.csv \n",
    "\n",
    "# Import our libraries\n",
    "import csv\n",
    "import matplotlib.pyplot as plt\n",
    "import os"
   ]
  },
  {
   "cell_type": "code",
   "execution_count": null,
   "metadata": {},
   "outputs": [],
   "source": [
    "# We first need to find our file. \n",
    "file_name = os.path.join(os.path.pardir, 'data', 'sea-surface-temp_fig-1.csv')"
   ]
  },
  {
   "cell_type": "markdown",
   "metadata": {},
   "source": [
    "### 2. `numpy.genfromtxt()`"
   ]
  },
  {
   "cell_type": "code",
   "execution_count": null,
   "metadata": {},
   "outputs": [],
   "source": [
    "## Header is 6 lines and we are going to read in the data\n",
    "skip_rows = 6"
   ]
  },
  {
   "cell_type": "code",
   "execution_count": null,
   "metadata": {},
   "outputs": [],
   "source": [
    "## Read 'file_name' and call it 'data' \n",
    "## This is a simple .csv file. Go into the folder 'Data' and open it in Excel if you don't believe us! \n",
    "## Set delimiter for csv, we will skip the headers, and names=True means that columns have names we will use. \n",
    "data = np.genfromtxt(file_name, delimiter=',', skip_header=skip_rows, names=True, dtype=None)"
   ]
  },
  {
   "cell_type": "code",
   "execution_count": null,
   "metadata": {},
   "outputs": [],
   "source": [
    "## Name the data based on the column names\n",
    "years = data['Year']\n",
    "temperature = data['Annual_anomaly']"
   ]
  },
  {
   "cell_type": "markdown",
   "metadata": {},
   "source": [
    "Note: `pandas.read_csv()` function has a similar functionality and returns similar data structure."
   ]
  },
  {
   "cell_type": "markdown",
   "metadata": {},
   "source": [
    "### 3. Plot a line graph of Average Ocean Temperature from 1880-Present"
   ]
  },
  {
   "cell_type": "code",
   "execution_count": null,
   "metadata": {},
   "outputs": [],
   "source": [
    "### Time to create our plot\n",
    "### fig sets up a blank figure for us.\n",
    "fig = plt.figure()"
   ]
  },
  {
   "cell_type": "code",
   "execution_count": null,
   "metadata": {},
   "outputs": [],
   "source": [
    "### We are now going to use object orientated apporoach and call it 'ax'\n",
    "ax = fig.add_subplot(111)"
   ]
  },
  {
   "cell_type": "code",
   "execution_count": null,
   "metadata": {},
   "outputs": [],
   "source": [
    "### Plot X, Y using 'ax' our blank figure. Colour (c) = 'red'...try changing this! \n",
    "#ax.plot(x, y, c='red')"
   ]
  },
  {
   "cell_type": "markdown",
   "metadata": {},
   "source": [
    "Formatting: "
   ]
  },
  {
   "cell_type": "code",
   "execution_count": null,
   "metadata": {},
   "outputs": [],
   "source": [
    "### How about adding some labels? \n",
    "#ax.set_xlabel('Year')\n",
    "#ax.set_ylabel('Temperature (oF)')\n",
    "#ax.set_title('Annual Anomaly')"
   ]
  },
  {
   "cell_type": "markdown",
   "metadata": {},
   "source": [
    "Try looking at the data from the 1960's to the present day. You can do this by just changing the 'x' and 'y' axis"
   ]
  },
  {
   "cell_type": "code",
   "execution_count": null,
   "metadata": {},
   "outputs": [],
   "source": [
    "## This one sets the limits of the x and y axis. \n",
    "#ax.set_xlim(..., ...)\n",
    "#ax.set_ylim(..., ...)"
   ]
  },
  {
   "cell_type": "markdown",
   "metadata": {},
   "source": [
    "### 4. Save the figure"
   ]
  },
  {
   "cell_type": "code",
   "execution_count": null,
   "metadata": {},
   "outputs": [],
   "source": [
    "# fig.savefig('awesome_figure.png', dpi=300, bbox_to_inches='tight')"
   ]
  },
  {
   "cell_type": "markdown",
   "metadata": {
    "nbpresent": {
     "id": "e007a07f-0f59-4564-9504-10914ba806b0"
    }
   },
   "source": [
    "## Now lets see if we can make some subplots"
   ]
  },
  {
   "cell_type": "code",
   "execution_count": null,
   "metadata": {},
   "outputs": [],
   "source": [
    "# Here we are going to loop over the same dataset twice and product a subplot with a different colour. \n",
    "# Two data arrays are created - uncomment 'data' to see what the output looks like. \n",
    "data = [temperature for i in range(2)] "
   ]
  },
  {
   "cell_type": "code",
   "execution_count": null,
   "metadata": {},
   "outputs": [],
   "source": [
    "# Create a colour scheme up to the value of 12. A simple array of numbers. \n",
    "colours = np.linspace(0.2,6,12) \n",
    "\n",
    "### Trying playing with the value '6' what does it do and how does it effect the output? \n",
    "### Why not try the other values too....remember to save your origional code! Use comments '#' to save it for later. "
   ]
  },
  {
   "cell_type": "code",
   "execution_count": null,
   "metadata": {},
   "outputs": [],
   "source": [
    "# Set a figure of 2 Vertical, by 1 Horizonal \n",
    "fig, ax = plt.subplots(2, 1)\n",
    "\n",
    "# Loop over the two data arrays, \n",
    "for ix, arr, col in zip(ax.flat, data, colours):\n",
    "    ix.plot(arr, color=str(col))\n"
   ]
  },
  {
   "cell_type": "markdown",
   "metadata": {},
   "source": [
    "# Exercise 2"
   ]
  },
  {
   "cell_type": "markdown",
   "metadata": {},
   "source": [
    "#### The next section is based upon marine data taken from the ICES dataset on the European Continental Shelf "
   ]
  },
  {
   "cell_type": "code",
   "execution_count": null,
   "metadata": {},
   "outputs": [],
   "source": [
    "file_name = os.path.join(os.path.pardir, 'data', 'Shelf_sea_nuts.csv')\n",
    "### Header is 1 line and we are going to read in the data\n",
    "skip_rows = 1"
   ]
  },
  {
   "cell_type": "code",
   "execution_count": null,
   "metadata": {},
   "outputs": [],
   "source": [
    "### Read 'file_name' and call it 'data' \n",
    "### This is a simple .csv file. Go into the folder 'Data' and open it in Excel if you don't believe us! \n",
    "data = np.genfromtxt(file_name, delimiter=',', names=True, dtype=None)\n",
    "print(data.dtype)\n",
    "print(\"What is that? We have the headers printed out for us!\")\n",
    "print(\"Maybe we should do something with these.... can you guess where they go?\")"
   ]
  },
  {
   "cell_type": "code",
   "execution_count": null,
   "metadata": {},
   "outputs": [],
   "source": [
    "### Name the data based on the column names\n",
    "#ICES_year = data['']\n",
    "#ICES_temperature = data['']\n",
    "#ICES_Oxygen = data['']\n",
    "#ICES_Nitrate = data['']"
   ]
  },
  {
   "cell_type": "markdown",
   "metadata": {},
   "source": [
    "## Task:\n",
    "### Try to produce three plots of the above data. \n",
    "### If you are feeling very adventureous, how about functionalising it! \n",
    "The simple task is to produce a scatter plot for each variable above, changing the colour, and transparency of the points. \n",
    "\n",
    "If you have time, how about using numpy.mean to mean the data via year, and then plot a line graph. If you get this far, try changing the 'linestyle' or 'ls' as you have done with colour and transparency. "
   ]
  },
  {
   "cell_type": "code",
   "execution_count": null,
   "metadata": {},
   "outputs": [],
   "source": [
    "#fig = plt.figure()\n",
    "#ax = fig.add_subplot(111)\n",
    "\n",
    "#ax.???(???, ???, color=???, alpha=???)  # hint how about we try a scatter plot? \n",
    "#ax.set_xlabel('???')\n",
    "#ax.set_ylabel('???')\n",
    "#ax.set_title('???')"
   ]
  },
  {
   "cell_type": "markdown",
   "metadata": {},
   "source": [
    "# Example of what else you can do:\n",
    "### Scatter Plot and colour the points by frequency"
   ]
  },
  {
   "cell_type": "code",
   "execution_count": null,
   "metadata": {
    "nbpresent": {
     "id": "6cb85cbd-6350-46c2-a60f-da7ba4272b78"
    }
   },
   "outputs": [],
   "source": [
    "  ### Create some random numbers\n",
    "n = 100000\n",
    "x = np.random.randn(n)\n",
    "y = (1.5 * x) + np.random.randn(n)"
   ]
  },
  {
   "cell_type": "code",
   "execution_count": null,
   "metadata": {},
   "outputs": [],
   "source": [
    "    ### Plot the data without colouring the points by frequency\n",
    "fig1 = plt.figure()\n",
    "ax = fig1.add_subplot(111)\n",
    "\n",
    "    ### Formatting\n",
    "ax.plot(x,y,'.r')\n",
    "ax.set_xlabel('Random X')\n",
    "ax.set_ylabel('Random Y')"
   ]
  },
  {
   "cell_type": "code",
   "execution_count": null,
   "metadata": {},
   "outputs": [],
   "source": [
    "    ### Estimate the 2D histogram we are using a numpy function and binning the data. \n",
    "    ### What happends if you play around with the value 200???\n",
    "#nbins = 200\n",
    "H, xedges, yedges = np.histogram2d(x,y,bins=nbins)\n",
    "\n",
    "# H needs to be rotated and flipped\n",
    "H = np.rot90(H)\n",
    "H = np.flipud(H)"
   ]
  },
  {
   "cell_type": "code",
   "execution_count": null,
   "metadata": {},
   "outputs": [],
   "source": [
    "# Mask zeros\n",
    "Hmasked = np.ma.masked_where(H==0,H) # Mask pixels with a value of zero"
   ]
  },
  {
   "cell_type": "code",
   "execution_count": null,
   "metadata": {},
   "outputs": [],
   "source": [
    "# Plot 2D histogram using pcolor\n",
    "fig2 = plt.figure()\n",
    "ax = fig2.add_subplot(111)\n",
    "\n",
    "ax.pcolormesh(xedges,yedges,Hmasked)\n",
    "ax.set_xlabel('Random X distribution')\n",
    "ax.set_ylabel('Random Y distribution')"
   ]
  },
  {
   "cell_type": "markdown",
   "metadata": {},
   "source": [
    "# Example - Contour plots"
   ]
  },
  {
   "cell_type": "code",
   "execution_count": null,
   "metadata": {
    "nbpresent": {
     "id": "a4be4e23-a94d-4b7d-881f-de656124dcfd"
    }
   },
   "outputs": [],
   "source": [
    "#### Create a function for generating visual data\n",
    "def f(x,y):\n",
    "    return (1-x/2+x**5+y**3)*np.exp(-x**2-y**2)"
   ]
  },
  {
   "cell_type": "code",
   "execution_count": null,
   "metadata": {},
   "outputs": [],
   "source": [
    "### Creates data\n",
    "n = 256\n",
    "x = np.linspace(-3,3,n)\n",
    "y = np.linspace(-3,3,n)\n",
    "X,Y = np.meshgrid(x,y)"
   ]
  },
  {
   "cell_type": "code",
   "execution_count": null,
   "metadata": {},
   "outputs": [],
   "source": [
    "### Object orientated \n",
    "fig4 = plt.figure()\n",
    "ax = fig4.add_subplot(111)\n",
    "\n",
    "### Plot a contour plot\n",
    "ax.contourf(X, Y, f(X,Y), 8, alpha=.75, cmap=plt.cm.hot)\n",
    "C = ax.contour(X, Y, f(X,Y), 8, colors='black', linewidth=.5)\n",
    "\n",
    "### Do you want values inline with the contours? If so, uncomment me below!\n",
    "ax.clabel(C, inline=1, fontsize=30)\n",
    "# print(\"Did you label the values inline?\")"
   ]
  },
  {
   "cell_type": "markdown",
   "metadata": {},
   "source": [
    "## References: \n",
    "* https://matplotlib.org/faq/usage_faq.html\n",
    "* http://www.labri.fr/perso/nrougier/teaching/matplotlib/matplotlib.html"
   ]
  }
 ],
 "metadata": {
  "anaconda-cloud": {},
  "kernelspec": {
   "display_name": "Python 3",
   "language": "python",
   "name": "python3"
  },
  "language_info": {
   "codemirror_mode": {
    "name": "ipython",
    "version": 3
   },
   "file_extension": ".py",
   "mimetype": "text/x-python",
   "name": "python",
   "nbconvert_exporter": "python",
   "pygments_lexer": "ipython3",
   "version": "3.6.4"
  },
  "nbpresent": {
   "slides": {
    "0def8933-36ce-4083-b26a-0661a1a2a116": {
     "id": "0def8933-36ce-4083-b26a-0661a1a2a116",
     "prev": "53ab1610-6f1a-4fc8-b24b-e40d920d7ceb",
     "regions": {
      "68eabbe8-3887-4c46-b94d-c0148183e603": {
       "attrs": {
        "height": 0.8,
        "width": 0.8,
        "x": 0.1,
        "y": 0.1
       },
       "content": {
        "cell": "4c52f1ce-98fc-4a38-8569-1e79f67bf0ee",
        "part": "whole"
       },
       "id": "68eabbe8-3887-4c46-b94d-c0148183e603"
      }
     }
    },
    "0e1bdc0f-c5f8-4d00-9657-4f3a78f0030c": {
     "id": "0e1bdc0f-c5f8-4d00-9657-4f3a78f0030c",
     "prev": "3bc5be16-2d36-4005-a40b-c023d27300d8",
     "regions": {
      "ce3cf658-98cf-4aa9-8875-3566578ccb6f": {
       "attrs": {
        "height": 0.8,
        "width": 0.8,
        "x": 0.1,
        "y": 0.1
       },
       "content": {
        "cell": "6100aaac-1c13-4cbb-83ee-5d1545171b7d",
        "part": "whole"
       },
       "id": "ce3cf658-98cf-4aa9-8875-3566578ccb6f"
      }
     }
    },
    "28fc96fd-5798-41c0-9388-8651637bd860": {
     "id": "28fc96fd-5798-41c0-9388-8651637bd860",
     "prev": "ee5b6ba5-0721-40fe-b5c7-598aed364a84",
     "regions": {
      "5bb62edc-0090-463a-8b20-26b2f7f4d966": {
       "attrs": {
        "height": 0.8,
        "width": 0.8,
        "x": 0.1,
        "y": 0.1
       },
       "content": {
        "cell": "823bdc5d-e1e5-4971-9b3a-f9e7d3cfad06",
        "part": "whole"
       },
       "id": "5bb62edc-0090-463a-8b20-26b2f7f4d966"
      }
     }
    },
    "2f2b80c2-7e7c-4cd6-9fca-054736469df5": {
     "id": "2f2b80c2-7e7c-4cd6-9fca-054736469df5",
     "prev": "41f4272e-776a-4897-8902-f52bd11f2403",
     "regions": {
      "b64992d5-9ed3-4d72-8048-be22ca112400": {
       "attrs": {
        "height": 0.8,
        "width": 0.8,
        "x": 0.1,
        "y": 0.1
       },
       "content": {
        "cell": "a4be4e23-a94d-4b7d-881f-de656124dcfd",
        "part": "whole"
       },
       "id": "b64992d5-9ed3-4d72-8048-be22ca112400"
      }
     }
    },
    "3bc5be16-2d36-4005-a40b-c023d27300d8": {
     "id": "3bc5be16-2d36-4005-a40b-c023d27300d8",
     "prev": "0def8933-36ce-4083-b26a-0661a1a2a116",
     "regions": {
      "80781489-c8b0-49cf-8da0-5c40f03eebf3": {
       "attrs": {
        "height": 0.8,
        "width": 0.8,
        "x": 0.1,
        "y": 0.1
       },
       "content": {
        "cell": "443f46bb-4d88-4218-8b57-0ce1deb8dac0",
        "part": "whole"
       },
       "id": "80781489-c8b0-49cf-8da0-5c40f03eebf3"
      }
     }
    },
    "41f4272e-776a-4897-8902-f52bd11f2403": {
     "id": "41f4272e-776a-4897-8902-f52bd11f2403",
     "prev": "e1c59565-6cdd-4ae4-97ff-29bf8096a690",
     "regions": {
      "d41986ab-fc7c-4a15-ba0e-d87c64905574": {
       "attrs": {
        "height": 0.8,
        "width": 0.8,
        "x": 0.1,
        "y": 0.1
       },
       "content": {
        "cell": "6cb85cbd-6350-46c2-a60f-da7ba4272b78",
        "part": "whole"
       },
       "id": "d41986ab-fc7c-4a15-ba0e-d87c64905574"
      }
     }
    },
    "53ab1610-6f1a-4fc8-b24b-e40d920d7ceb": {
     "id": "53ab1610-6f1a-4fc8-b24b-e40d920d7ceb",
     "prev": "7185aeb2-0ef0-4273-8e9f-bfb1bf65d603",
     "regions": {
      "346969fd-7bab-463e-b642-181a205b30b3": {
       "attrs": {
        "height": 0.8,
        "width": 0.8,
        "x": 0.1,
        "y": 0.1
       },
       "content": {
        "cell": "14bf700e-8c92-4ade-bb3a-658446ba831e",
        "part": "whole"
       },
       "id": "346969fd-7bab-463e-b642-181a205b30b3"
      }
     }
    },
    "7185aeb2-0ef0-4273-8e9f-bfb1bf65d603": {
     "id": "7185aeb2-0ef0-4273-8e9f-bfb1bf65d603",
     "prev": "75aad04f-fd31-4562-8a88-948385acf4d6",
     "regions": {
      "e32f853b-eaaf-4436-9d53-04c8e5b84a39": {
       "attrs": {
        "height": 0.8,
        "width": 0.8,
        "x": 0.1,
        "y": 0.1
       },
       "content": {
        "cell": "8ab1965a-5c3c-4d8c-84bb-0dc078abfdfd",
        "part": "whole"
       },
       "id": "e32f853b-eaaf-4436-9d53-04c8e5b84a39"
      }
     }
    },
    "75aad04f-fd31-4562-8a88-948385acf4d6": {
     "id": "75aad04f-fd31-4562-8a88-948385acf4d6",
     "prev": "e12a200a-d4bd-4598-acfc-6bcfac7f6144",
     "regions": {
      "e728912b-5975-4726-868c-19692a1bdaa3": {
       "attrs": {
        "height": 0.8,
        "width": 0.8,
        "x": 0.1,
        "y": 0.1
       },
       "content": {
        "cell": "c973a0ad-f5b1-430c-9dca-81a7bddf7b34",
        "part": "whole"
       },
       "id": "e728912b-5975-4726-868c-19692a1bdaa3"
      }
     }
    },
    "9d5a78f0-8f8c-48a6-80f1-b0e5de5d1f58": {
     "id": "9d5a78f0-8f8c-48a6-80f1-b0e5de5d1f58",
     "prev": null,
     "regions": {
      "fbb3ef4a-6e8d-4f4e-89ef-0d0d1d1d4dce": {
       "attrs": {
        "height": 0.8,
        "width": 0.8,
        "x": 0.1,
        "y": 0.1
       },
       "content": {
        "cell": "80243624-0a24-4f0c-a5b2-aa3598627698",
        "part": "whole"
       },
       "id": "fbb3ef4a-6e8d-4f4e-89ef-0d0d1d1d4dce"
      }
     }
    },
    "d1d8c39f-0da5-4c80-8841-2fa1020900a2": {
     "id": "d1d8c39f-0da5-4c80-8841-2fa1020900a2",
     "prev": "0e1bdc0f-c5f8-4d00-9657-4f3a78f0030c",
     "regions": {
      "21e351f5-dc13-4b5f-a8a8-1af11190f04e": {
       "attrs": {
        "height": 0.8,
        "width": 0.8,
        "x": 0.1,
        "y": 0.1
       },
       "content": {
        "cell": "f1cd1110-2114-4693-835c-88a7c8e02cf9",
        "part": "whole"
       },
       "id": "21e351f5-dc13-4b5f-a8a8-1af11190f04e"
      }
     }
    },
    "e12a200a-d4bd-4598-acfc-6bcfac7f6144": {
     "id": "e12a200a-d4bd-4598-acfc-6bcfac7f6144",
     "prev": "9d5a78f0-8f8c-48a6-80f1-b0e5de5d1f58",
     "regions": {
      "92b58e7b-bf92-46bf-8020-34346d7c99c2": {
       "attrs": {
        "height": 0.8,
        "width": 0.8,
        "x": 0.1,
        "y": 0.1
       },
       "content": {
        "cell": "e4c90f27-1165-4bd4-bcea-8ede519f39ee",
        "part": "whole"
       },
       "id": "92b58e7b-bf92-46bf-8020-34346d7c99c2"
      }
     }
    },
    "e1c59565-6cdd-4ae4-97ff-29bf8096a690": {
     "id": "e1c59565-6cdd-4ae4-97ff-29bf8096a690",
     "prev": "28fc96fd-5798-41c0-9388-8651637bd860",
     "regions": {
      "198fd109-8ab1-41cc-9561-ee457745dfb8": {
       "attrs": {
        "height": 0.8,
        "width": 0.8,
        "x": 0.1,
        "y": 0.1
       },
       "content": {
        "cell": "adcfc172-a4b1-4d58-bf93-e75c8743c6d0",
        "part": "whole"
       },
       "id": "198fd109-8ab1-41cc-9561-ee457745dfb8"
      }
     }
    },
    "ee5b6ba5-0721-40fe-b5c7-598aed364a84": {
     "id": "ee5b6ba5-0721-40fe-b5c7-598aed364a84",
     "prev": "d1d8c39f-0da5-4c80-8841-2fa1020900a2",
     "regions": {
      "15f43350-433e-458a-b0eb-f469b372c2c2": {
       "attrs": {
        "height": 0.8,
        "width": 0.8,
        "x": 0.1,
        "y": 0.1
       },
       "content": {
        "cell": "e007a07f-0f59-4564-9504-10914ba806b0",
        "part": "whole"
       },
       "id": "15f43350-433e-458a-b0eb-f469b372c2c2"
      }
     }
    }
   },
   "themes": {}
  }
 },
 "nbformat": 4,
 "nbformat_minor": 1
}
