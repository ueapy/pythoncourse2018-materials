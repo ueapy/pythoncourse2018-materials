{
 "cells": [
  {
   "cell_type": "markdown",
   "metadata": {
    "slideshow": {
     "slide_type": "slide"
    }
   },
   "source": [
    "# The netCDF file format"
   ]
  },
  {
   "cell_type": "markdown",
   "metadata": {},
   "source": [
    "* popular scientific file format for ocean and atmospere gridded datasets\n",
    "* netCDF is a collection of formats for storing arrays\n",
    "\n",
    "    * netCDF classic\n",
    "        * more widespread\n",
    "        * 2 GB file limit\n",
    "        * often preffered for distributing products\n",
    "\n",
    "    * netCDF 64 bit offset\n",
    "        * supports larger files\n",
    "\n",
    "    * NetCDF4\n",
    "        * based on HDF5\n",
    "        * compression\n",
    "        * multiple unlimited variables\n",
    "        * new types inc. user defined\n",
    "        * herarchical groups\n",
    "        \n",
    "        \n",
    "\n",
    "* Developed by Unidata-UCAR with the aim of storing climate model data (3D+time)\n",
    "* Auxilary information about each variable can be added\n",
    "* Readable text equivalent called CDL (use ncdump/ncgen)\n",
    "* Can be used with Climate and Forecast (CF) data convention\n",
    "http://cfconventions.org/"
   ]
  },
  {
   "cell_type": "markdown",
   "metadata": {
    "slideshow": {
     "slide_type": "subslide"
    }
   },
   "source": [
    "## Data model:\n",
    "\n",
    "* Dimensions:describe the axes of the data arrays.\n",
    "* Variables: N-dimensional arrays of data.\n",
    "* Attributes: annotate variables or files with small notes or supplementary metadata.\n",
    "\n",
    "Example for an ocean model dataset:\n",
    "\n",
    "* Dimensions\n",
    "    * lat\n",
    "    * lon\n",
    "    * depth\n",
    "    * time\n",
    "* Variable\n",
    "    * Temperature\n",
    "    * Salinity\n",
    "* Global Attibutes\n",
    "    * Geographic grid type\n",
    "    * History\n",
    "\n",
    "\n",
    "\n",
    "* Variable attributes (Temperature)\n",
    "    * Long_name: \"sea water temperature\" \n",
    "    * Missing_value: 1.09009E36\n",
    "    * Units: deg. C\n",
    "    * range: -2:50"
   ]
  },
  {
   "cell_type": "markdown",
   "metadata": {
    "slideshow": {
     "slide_type": "subslide"
    }
   },
   "source": [
    "## Tools for working with netCDF files\n",
    "\n",
    "### C and Fortran libraries\n",
    "Used to underpin interfaces to other languages such as python (e.g. python package netCDF4)\n",
    "\n",
    "Include ncdump/ncgen to convert to and from human readable format.\n",
    "\n",
    "### nco tools http://nco.sourceforge.net/nco.html\n",
    "Command line utilities to extract, create and operate data in netCDF files.\n",
    "\n",
    "```\n",
    "    > ncks -v u_wind -d lat,50.,51. -d lon,0.,5 inputfile.nc outputfile.nc\n",
    "```\n",
    "\n",
    "### cdo tools\n",
    "Another powerful CLI utility https://code.mpimet.mpg.de/projects/cdo/\n",
    "\n",
    "### Viewers\n",
    "ncdump, ncview, panoply, etc.\n",
    "\n",
    "### Readable by many software tools\n",
    "ArcGIS, QGIS, Surfer, Ferret, Paraview etc.\n",
    "\n",
    "### Python packages\n",
    "* The main Python interface to the netCDF C library is [netCDF4](http://unidata.github.io/netcdf4-python/) package\n",
    "* In this tutorial, however, we will use a more high-level package that has a **pandas-like API**: [xarray](http://xarray.pydata.org/en/stable/index.html).\n",
    "* Another good package is [iris](http://scitools.org.uk/iris/)."
   ]
  },
  {
   "cell_type": "markdown",
   "metadata": {
    "slideshow": {
     "slide_type": "slide"
    }
   },
   "source": [
    "# Working with netCDF files using xarray"
   ]
  },
  {
   "cell_type": "markdown",
   "metadata": {},
   "source": [
    "* Alternative to plain netCDF4 access from python. \n",
    "\n",
    "* Brings the power of pandas to environmental sciences, by providing N-dimensional variants of the core pandas data structures:\n",
    "\n",
    "* worth using for multidimensional data even when not using \n",
    "\n",
    "| Pandas | xarray  |\n",
    "|---|---|\n",
    "| Series  | DataArray  |\n",
    "| DataFrame  | Dataset  |\n",
    "\n",
    "\n",
    "DataArray uses names of dimensions making it easier to track than by using axis numbers. It is possible to write:\n",
    "\n",
    "`da.sel(time='2000-01-01')` or `da.mean(dim='time')`\n",
    "intead of ``df.mean(0)``\n",
    "\n",
    "HTML documentation: http://xarray.pydata.org/"
   ]
  },
  {
   "cell_type": "markdown",
   "metadata": {},
   "source": [
    "Thus, xarray operations allow you to use names, not numbers!\n",
    "Compare:\n",
    "```python\n",
    "# xarray style\n",
    ">>> ds.sel(time='2018-01-12').max(dim='ensemble')\n",
    "\n",
    "# numpy style\n",
    ">>> array[[0, 1, 2, 3], :, :].max(axis=2)\n",
    "```\n",
    "\n",
    "(Taken from Stephan Hoyer's [ECMWF talk](https://docs.google.com/presentation/d/16CMY3g_OYr6fQplUZIDqVtG-SKZqsG8Ckwoj2oOqepU/edit#slide=id.g2b68f9254d_1_27))"
   ]
  },
  {
   "cell_type": "markdown",
   "metadata": {},
   "source": [
    "## Example dataset\n",
    "http://xarray.pydata.org/en/stable/data-structures.html\n",
    "\n",
    "<br>\n",
    "<img src=\"../figures/dataset-diagram.png\">\n"
   ]
  },
  {
   "cell_type": "code",
   "execution_count": null,
   "metadata": {},
   "outputs": [],
   "source": []
  },
  {
   "cell_type": "code",
   "execution_count": null,
   "metadata": {},
   "outputs": [],
   "source": [
    "# Import everything that we are going to need... but not more\n",
    "import pandas as pd\n",
    "import xarray as xr\n",
    "import numpy as np"
   ]
  },
  {
   "cell_type": "code",
   "execution_count": null,
   "metadata": {},
   "outputs": [],
   "source": [
    "df = pd.DataFrame.from_items([('A', [1, 2, 3]), ('B', [4, 5, 6])],                         \n",
    "                             orient='index', columns=['one', 'two', 'three'])\n",
    "df.mean(axis=0)"
   ]
  },
  {
   "cell_type": "code",
   "execution_count": null,
   "metadata": {},
   "outputs": [],
   "source": [
    "pd_s = pd.Series(range(3), index=list('abc'), name='foo')\n",
    "print(pd_s)"
   ]
  },
  {
   "cell_type": "code",
   "execution_count": null,
   "metadata": {},
   "outputs": [],
   "source": [
    "#conver 1D series to ND aware DataArray \n",
    "print(xr.DataArray(pd_s))"
   ]
  },
  {
   "cell_type": "markdown",
   "metadata": {
    "slideshow": {
     "slide_type": "subslide"
    }
   },
   "source": [
    "### The main advantages of using xarray versus plain netCDF4 are:\n",
    "\n",
    "* intelligent selection along labelled dimensions (and also indexes)\n",
    "* groupby operations\n",
    "* data alignment\n",
    "* IO (netcdf)\n",
    "* conversion from and to Pandas.DataFrames"
   ]
  },
  {
   "cell_type": "markdown",
   "metadata": {},
   "source": [
    "### Lets peek inside our example file using ncdump\n",
    "\n",
    "```\n",
    "$ ncdump data/cefas_GETM_nwes.nc | more\n",
    "netcdf cefas_GETM_nwes {\n",
    "dimensions:\n",
    "        latc = 360 ;\n",
    "        lonc = 396 ;\n",
    "        time = UNLIMITED ; // (6 currently)\n",
    "        level = 5 ;\n",
    "variables:\n",
    "        double bathymetry(latc, lonc) ;\n",
    "                bathymetry:units = \"m\" ;\n",
    "                bathymetry:long_name = \"bathymetry\" ;\n",
    "                bathymetry:valid_range = -5., 4000. ;\n",
    "                bathymetry:_FillValue = -10. ;\n",
    "                bathymetry:missing_value = -10. ;\n",
    "        float h(time, level, latc, lonc) ;\n",
    "                h:units = \"m\" ;\n",
    "                h:long_name = \"layer thickness\" ;\n",
    "                h:_FillValue = -9999.f ;\n",
    "                h:missing_value = -9999.f ;\n",
    "        double latc(latc) ;\n",
    "                latc:units = \"degrees_north\" ;\n",
    "        double level(level) ;\n",
    "                level:units = \"level\" ;\n",
    "        double lonc(lonc) ;\n",
    "                lonc:units = \"degrees_east\" ;\n",
    "        float temp(time, level, latc, lonc) ;\n",
    "                temp:units = \"degC\" ;\n",
    "                temp:long_name = \"temperature\" ;\n",
    "                temp:valid_range = -2.f, 40.f ;\n",
    "                temp:_FillValue = -9999.f ;\n",
    "                temp:missing_value = -9999.f ;\n",
    "        double time(time) ;\n",
    "                time:long_name = \"time\" ;\n",
    "                time:units = \"seconds since 1996-01-01 00:00:00\" ;\n",
    "```"
   ]
  },
  {
   "cell_type": "markdown",
   "metadata": {
    "slideshow": {
     "slide_type": "subslide"
    }
   },
   "source": [
    "Now let's go back to python and use xarray."
   ]
  },
  {
   "cell_type": "markdown",
   "metadata": {},
   "source": [
    "## Import remote dataset\n",
    "\n",
    "xarray supports OpenDAP. This means that a dataset can be accessed remotely and subsetted as needed. Only the selected parts are downloaded."
   ]
  },
  {
   "cell_type": "code",
   "execution_count": null,
   "metadata": {},
   "outputs": [],
   "source": [
    "# Naughty datasets might require decode_cf=False\n",
    "# Here it just needed decode_times=False\n",
    "\n",
    "naughty_data = xr.open_dataset(\n",
    "      'http://iridl.ldeo.columbia.edu/SOURCES/.OSU/.PRISM/.monthly/dods',\n",
    "      decode_times=False)\n",
    "naughty_data"
   ]
  },
  {
   "cell_type": "markdown",
   "metadata": {},
   "source": [
    "### ...or import local dataset"
   ]
  },
  {
   "cell_type": "code",
   "execution_count": null,
   "metadata": {},
   "outputs": [],
   "source": [
    "GETM = xr.open_dataset('../data/cefas_GETM_nwes.nc4')\n",
    "GETM"
   ]
  },
  {
   "cell_type": "code",
   "execution_count": null,
   "metadata": {},
   "outputs": [],
   "source": [
    "GETM.dims"
   ]
  },
  {
   "cell_type": "code",
   "execution_count": null,
   "metadata": {},
   "outputs": [],
   "source": [
    "print(type(GETM.coords['latc']))\n",
    "GETM.coords['latc'].shape"
   ]
  },
  {
   "cell_type": "code",
   "execution_count": null,
   "metadata": {},
   "outputs": [],
   "source": [
    "# List name of dataset attributes\n",
    "GETM.attrs.keys()"
   ]
  },
  {
   "cell_type": "code",
   "execution_count": null,
   "metadata": {},
   "outputs": [],
   "source": [
    "# List variable names\n",
    "GETM.data_vars.keys()"
   ]
  },
  {
   "cell_type": "markdown",
   "metadata": {},
   "source": [
    "Extract variable from dataset"
   ]
  },
  {
   "cell_type": "code",
   "execution_count": null,
   "metadata": {},
   "outputs": [],
   "source": [
    "temp = GETM['temp']\n",
    "print(type( temp ))\n",
    "temp.shape"
   ]
  },
  {
   "cell_type": "markdown",
   "metadata": {},
   "source": [
    "Access variable attributes"
   ]
  },
  {
   "cell_type": "code",
   "execution_count": null,
   "metadata": {},
   "outputs": [],
   "source": [
    "# print varaible attributes\n",
    "\n",
    "for at, val in temp.attrs.items():\n",
    "    print(f'{at:<15}: {val}')"
   ]
  },
  {
   "cell_type": "markdown",
   "metadata": {},
   "source": [
    "## Accessing data values"
   ]
  },
  {
   "cell_type": "code",
   "execution_count": null,
   "metadata": {},
   "outputs": [],
   "source": [
    "temp[0, 0, 90, 100]"
   ]
  },
  {
   "cell_type": "markdown",
   "metadata": {},
   "source": [
    "## Indexing and selecting data\n",
    "\n",
    "From http://xarray.pydata.org/\n",
    "<br>\n",
    "<img src=\"../figures/xarray_indexing_table.png\">"
   ]
  },
  {
   "cell_type": "code",
   "execution_count": null,
   "metadata": {},
   "outputs": [],
   "source": [
    "#positional by integer\n",
    "print( temp[0, 2, :, :].shape )\n",
    "\n",
    "# positional by label\n",
    "print( temp.loc['1996-02-02T01:00:00', :, :, :].shape )\n",
    "\n",
    "# by name and integer\n",
    "print( temp.isel(level=1, latc=90, lonc=100).shape )\n",
    "\n",
    "# by name and label\n",
    "print( temp.sel(time='1996-02-02T01:00:00').shape )\n",
    "#temp.loc"
   ]
  },
  {
   "cell_type": "markdown",
   "metadata": {},
   "source": [
    "### Define selection using nearest value"
   ]
  },
  {
   "cell_type": "code",
   "execution_count": null,
   "metadata": {},
   "outputs": [],
   "source": [
    "#GETM.sel(level=1)['temp']\n",
    "GETM['temp'].sel(level=1, lonc=-5.0, latc=-50.0, method='nearest')"
   ]
  },
  {
   "cell_type": "code",
   "execution_count": null,
   "metadata": {},
   "outputs": [],
   "source": [
    "tol = 0.5\n",
    "\n",
    "try:\n",
    "    GETM['temp'].sel(level=1, lonc=-5.0, latc=-50.0, method='nearest', tolerance=tol)\n",
    "except KeyError:\n",
    "    print(f'ERROR: outside tolerance of {tol}')"
   ]
  },
  {
   "cell_type": "markdown",
   "metadata": {},
   "source": [
    "## Plotting"
   ]
  },
  {
   "cell_type": "code",
   "execution_count": null,
   "metadata": {},
   "outputs": [],
   "source": [
    "import matplotlib.pyplot as plt\n",
    "import cartopy\n",
    "import cartopy.crs as ccrs"
   ]
  },
  {
   "cell_type": "markdown",
   "metadata": {},
   "source": [
    "Define a general mapping function using basemap"
   ]
  },
  {
   "cell_type": "code",
   "execution_count": null,
   "metadata": {},
   "outputs": [],
   "source": [
    "def make_map(ds, var='', title=None, units=None):\n",
    "    # create figure and axes instances\n",
    "    fig = plt.figure()\n",
    "    ax = fig.add_subplot(111, projection=ccrs.Stereographic(central_latitude=60))\n",
    "#     ax.coastlines(resolution='50m', linewidth=0.5)\n",
    "    ax.set_extent([-10, 15, 49, 60], crs=ccrs.PlateCarree())\n",
    "    \n",
    "    gl = ax.gridlines(draw_labels=False)\n",
    "    \n",
    "    feature = cartopy.feature.NaturalEarthFeature(name='coastline',\n",
    "                                                  category='physical',\n",
    "                                                  scale='50m',\n",
    "                                                  edgecolor='0.5',\n",
    "                                                  facecolor='0.8')\n",
    "    ax.add_feature(feature)\n",
    "    return fig, ax\n",
    "\n",
    "make_map(GETM)"
   ]
  },
  {
   "cell_type": "code",
   "execution_count": null,
   "metadata": {},
   "outputs": [],
   "source": [
    "latc = GETM.coords['latc']\n",
    "lonc = GETM.coords['lonc']\n",
    "var = GETM.temp[0, 0, ...]\n",
    "    \n",
    "# create arrays of coordinates for contourf\n",
    "# lon2d, lat2d = np.meshgrid(lonc, latc)\n",
    "\n",
    "fig, ax = make_map(GETM)\n",
    "# draw filled contours.\n",
    "h = ax.contourf(lonc, latc, var, 50, cmap=plt.cm.coolwarm, transform=ccrs.PlateCarree())\n",
    "\n",
    "# add colorbar.\n",
    "cbar = fig.colorbar(h)\n",
    "cbar.set_label(var.units)\n",
    "\n",
    "# add title\n",
    "ax.set_title(f'A slice of {var.long_name}');"
   ]
  },
  {
   "cell_type": "code",
   "execution_count": null,
   "metadata": {},
   "outputs": [],
   "source": [
    "# But often, this will do\n",
    "GETM.temp.isel(time=0, level=0).plot();"
   ]
  },
  {
   "cell_type": "markdown",
   "metadata": {},
   "source": [
    "## Arithmetic operations"
   ]
  },
  {
   "cell_type": "code",
   "execution_count": null,
   "metadata": {},
   "outputs": [],
   "source": [
    "top = GETM['temp'].isel(time=0, level=4)\n",
    "bottom = GETM['temp'].isel(time=0, level=0)\n",
    "\n",
    "diff = top - bottom\n",
    "\n",
    "diff.plot()"
   ]
  },
  {
   "cell_type": "markdown",
   "metadata": {},
   "source": [
    "### Calculate average along a dimension"
   ]
  },
  {
   "cell_type": "code",
   "execution_count": null,
   "metadata": {},
   "outputs": [],
   "source": [
    "# average over time\n",
    "time_ave = GETM['temp'].mean('time')\n",
    "\n",
    "#average over time and level (vertical)\n",
    "timelev_ave = GETM['temp'].mean(['time','level'])\n",
    "\n",
    "timelev_ave.plot()"
   ]
  },
  {
   "cell_type": "code",
   "execution_count": null,
   "metadata": {},
   "outputs": [],
   "source": [
    "#zonal average (vertical)\n",
    "timelon_ave = GETM['temp'].mean(['time','lonc']).isel(level=4)\n",
    "\n",
    "timelon_ave.plot()"
   ]
  },
  {
   "cell_type": "markdown",
   "metadata": {},
   "source": [
    "## A dataset can easily be saved to a netCDF file"
   ]
  },
  {
   "cell_type": "code",
   "execution_count": null,
   "metadata": {},
   "outputs": [],
   "source": [
    "ds = GETM[['temp']].mean('time','level')\n",
    "ds.to_netcdf('../data/temp_avg_level_time.nc')"
   ]
  },
  {
   "cell_type": "code",
   "execution_count": null,
   "metadata": {},
   "outputs": [],
   "source": [
    "print(type( GETM[['temp']]) )\n",
    "print(type( GETM['temp'])   )"
   ]
  },
  {
   "cell_type": "markdown",
   "metadata": {},
   "source": [
    "## Exercise\n",
    "\n",
    "* Extract the bathymetry\n",
    "* Extract the seabed temperature    isel(level=0)\n",
    "* Produce a scatter plot of depth vs. seabed temperature\n"
   ]
  },
  {
   "cell_type": "code",
   "execution_count": null,
   "metadata": {},
   "outputs": [],
   "source": [
    "# bathy = GETM\n",
    "\n",
    "# bedtemp=GETM\n",
    "\n",
    "# plt.scatter(  , ,marker='.')"
   ]
  }
 ],
 "metadata": {
  "anaconda-cloud": {},
  "kernelspec": {
   "display_name": "Python [conda env:course2018]",
   "language": "python",
   "name": "conda-env-course2018-py"
  },
  "language_info": {
   "codemirror_mode": {
    "name": "ipython",
    "version": 3
   },
   "file_extension": ".py",
   "mimetype": "text/x-python",
   "name": "python",
   "nbconvert_exporter": "python",
   "pygments_lexer": "ipython3",
   "version": "3.6.3"
  }
 },
 "nbformat": 4,
 "nbformat_minor": 1
}
