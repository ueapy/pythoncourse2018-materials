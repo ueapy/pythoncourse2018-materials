{
 "cells": [
  {
   "cell_type": "markdown",
   "metadata": {
    "nbpresent": {
     "id": "c2b1570a-8793-4d69-a85a-a3261dbd0f76"
    },
    "slideshow": {
     "slide_type": "slide"
    }
   },
   "source": [
    "# ![](http://www.numpy.org/_static/numpy_logo.png) Introduction to NumPy\n",
    "##### NumPy supports arrays which are very useful to numerical computations\n",
    "* Arrays are N dimensional: 1d (vector), 2d (plane),...,N dim\n",
    "* Arrays are (generally) faster than lists\n",
    "* Many packages use numpy arrays to store data\n",
    "* Arrays can be used to make calculations in one command, without For loops or list compreension"
   ]
  },
  {
   "cell_type": "markdown",
   "metadata": {},
   "source": [
    "**See this brilliant guide: http://www.labri.fr/perso/nrougier/from-python-to-numpy/**"
   ]
  },
  {
   "cell_type": "markdown",
   "metadata": {
    "slideshow": {
     "slide_type": "fragment"
    }
   },
   "source": [
    "Let's import it..."
   ]
  },
  {
   "cell_type": "code",
   "execution_count": null,
   "metadata": {
    "collapsed": true,
    "slideshow": {
     "slide_type": "-"
    }
   },
   "outputs": [],
   "source": [
    "import numpy as np"
   ]
  },
  {
   "cell_type": "markdown",
   "metadata": {
    "slideshow": {
     "slide_type": "subslide"
    }
   },
   "source": [
    "Vectorised\n",
    "```python\n",
    "array2 = array1 * k + c\n",
    "```\n",
    "\n",
    "Non-vectorised, here with a list\n",
    "```python\n",
    "for i in range(len(arr1)):\n",
    "    arr2[i] = arr1[i] * k + c   \n",
    "```"
   ]
  },
  {
   "cell_type": "markdown",
   "metadata": {
    "nbpresent": {
     "id": "fba65ca1-2bcd-4302-ad77-ca515bb41369"
    },
    "slideshow": {
     "slide_type": "slide"
    }
   },
   "source": [
    "### Do we still need lists?\n",
    " \n",
    "* Lists can have different objects as elements. Arrays are homogenous.\n",
    "```python\n",
    "example_list = [number, string, cat, dog]\n",
    "example_array = [cat1, cat2, cat3]\n",
    "```\n",
    "* Lists can be nested \n",
    "```python\n",
    "nested_list = [[1, 2], ['a', 'b', 'qwerty'], [1]]\n",
    "```\n",
    "Arrays can also be nested but it negates some of the advantages of n-dimensional arrays"
   ]
  },
  {
   "cell_type": "markdown",
   "metadata": {
    "nbpresent": {
     "id": "badd07a8-688d-42d4-9dd2-49537c1c8e3e"
    },
    "slideshow": {
     "slide_type": "slide"
    }
   },
   "source": [
    "### Looking for help?\n",
    "\n",
    "* Documentation: http://docs.scipy.org/doc/numpy/reference/\n",
    "* Use help function (tab will show options available)\n",
    "```python\n",
    "    help(np.mean)\n",
    "```"
   ]
  },
  {
   "cell_type": "markdown",
   "metadata": {
    "slideshow": {
     "slide_type": "fragment"
    }
   },
   "source": [
    "* Interactive help: NumPy has an a built-in search engine"
   ]
  },
  {
   "cell_type": "code",
   "execution_count": null,
   "metadata": {
    "nbpresent": {
     "id": "45a16039-0490-49bc-b7fe-10b8de0adb95"
    },
    "slideshow": {
     "slide_type": "-"
    }
   },
   "outputs": [],
   "source": [
    "np.lookfor('weighted average')"
   ]
  },
  {
   "cell_type": "markdown",
   "metadata": {
    "nbpresent": {
     "id": "a0343cc5-9f86-482a-b583-d3ca2b416cad"
    },
    "slideshow": {
     "slide_type": "slide"
    }
   },
   "source": [
    "### Creating an array from a list"
   ]
  },
  {
   "cell_type": "code",
   "execution_count": null,
   "metadata": {
    "nbpresent": {
     "id": "400ebeb2-385d-4f61-94c5-b58c8ca2d982"
    },
    "slideshow": {
     "slide_type": "-"
    }
   },
   "outputs": [],
   "source": [
    "a1d = np.array([3, 4, 5, 6])\n",
    "a1d"
   ]
  },
  {
   "cell_type": "code",
   "execution_count": null,
   "metadata": {
    "nbpresent": {
     "id": "e11e259e-e12f-4599-93c5-3d5f5a6fc272"
    },
    "slideshow": {
     "slide_type": "fragment"
    }
   },
   "outputs": [],
   "source": [
    "a2d = np.array([[10.,   20, 30], [9, 8, 5]])\n",
    "a2d"
   ]
  },
  {
   "cell_type": "code",
   "execution_count": null,
   "metadata": {
    "slideshow": {
     "slide_type": "subslide"
    }
   },
   "outputs": [],
   "source": [
    "print( type( a1d[0] ) )\n",
    "print( type( a2d[0,0] ) )"
   ]
  },
  {
   "cell_type": "code",
   "execution_count": null,
   "metadata": {
    "nbpresent": {
     "id": "4cc591d7-cb66-4c2e-88ac-a395ba6563dd"
    },
    "slideshow": {
     "slide_type": "-"
    }
   },
   "outputs": [],
   "source": [
    "type(a1d)"
   ]
  },
  {
   "cell_type": "markdown",
   "metadata": {
    "nbpresent": {
     "id": "4c5e8be2-32e5-41ef-843e-a95034e70e8a"
    },
    "slideshow": {
     "slide_type": "fragment"
    }
   },
   "source": [
    "The **core class** of NumPy is the `ndarray` (homogeneous n-dimensional array)."
   ]
  },
  {
   "cell_type": "markdown",
   "metadata": {},
   "source": [
    "To find methods or attributes:\n",
    "<code>\n",
    "a1d.   ->tab\n",
    "</code>\n",
    "\n",
    "More on this below."
   ]
  },
  {
   "cell_type": "markdown",
   "metadata": {
    "nbpresent": {
     "id": "1a780228-c0cf-4d8c-b4f4-ba1bd1535e0c"
    },
    "slideshow": {
     "slide_type": "slide"
    }
   },
   "source": [
    "### Common mistakes"
   ]
  },
  {
   "cell_type": "code",
   "execution_count": null,
   "metadata": {
    "scrolled": true,
    "slideshow": {
     "slide_type": "-"
    }
   },
   "outputs": [],
   "source": [
    "try:\n",
    "    a = np.array(1,2,3,4)   # WRONG, only 2 non-keyword arguments accepted\n",
    "except ValueError as err:\n",
    "    print(err)"
   ]
  },
  {
   "cell_type": "code",
   "execution_count": null,
   "metadata": {
    "collapsed": true,
    "nbpresent": {
     "id": "d6ba304a-3ec3-4cf0-9328-525fd1ae0d43"
    },
    "slideshow": {
     "slide_type": "fragment"
    }
   },
   "outputs": [],
   "source": [
    "a = np.array([1,2,3,4]) # RIGHT"
   ]
  },
  {
   "cell_type": "code",
   "execution_count": null,
   "metadata": {
    "nbpresent": {
     "id": "752f881b-8c70-4690-91d0-9112ebdc7da2"
    },
    "slideshow": {
     "slide_type": "fragment"
    }
   },
   "outputs": [],
   "source": [
    "np.ndarray([1,2,3,4]) #  ndarray is a low level method. Use np.array() instead"
   ]
  },
  {
   "cell_type": "markdown",
   "metadata": {
    "nbpresent": {
     "id": "40639a43-c95e-403d-ad81-56c460760c1f"
    },
    "slideshow": {
     "slide_type": "slide"
    }
   },
   "source": [
    "### Functions for creating arrays"
   ]
  },
  {
   "cell_type": "markdown",
   "metadata": {
    "nbpresent": {
     "id": "06ad79f9-1299-44f0-8785-97373e4757a3"
    },
    "slideshow": {
     "slide_type": "subslide"
    }
   },
   "source": [
    "#### ``arange([start,] stop[, step,], dtype=None)``\n",
    "#### evenly spaced, defined by step"
   ]
  },
  {
   "cell_type": "code",
   "execution_count": null,
   "metadata": {
    "nbpresent": {
     "id": "5aa089f5-878d-437e-b3ca-3614f68b1c7e"
    }
   },
   "outputs": [],
   "source": [
    "np.arange(1, 9, 2)"
   ]
  },
  {
   "cell_type": "code",
   "execution_count": null,
   "metadata": {
    "slideshow": {
     "slide_type": "fragment"
    }
   },
   "outputs": [],
   "source": [
    "# for integers, np.arange is same as range but returns an array insted of a list \n",
    "np.array( range(1,9,2) )"
   ]
  },
  {
   "cell_type": "markdown",
   "metadata": {
    "nbpresent": {
     "id": "766d0c85-0e52-449b-b31b-69bfb8488314"
    },
    "slideshow": {
     "slide_type": "subslide"
    }
   },
   "source": [
    "###### ``linspace(start, stop, num=50, endpoint=True, retstep=False, dtype=None)``\n",
    "\n",
    "\n",
    "#### evenly spaced, defined by length"
   ]
  },
  {
   "cell_type": "code",
   "execution_count": null,
   "metadata": {
    "nbpresent": {
     "id": "1c6297c1-51da-427e-b2f0-a9af3284e72b"
    }
   },
   "outputs": [],
   "source": [
    "np.linspace(0, 1, 10)   # start, end, num-points"
   ]
  },
  {
   "cell_type": "markdown",
   "metadata": {
    "nbpresent": {
     "id": "013366e5-216b-44ac-a056-58a31817ae74"
    },
    "slideshow": {
     "slide_type": "slide"
    }
   },
   "source": [
    "## Exercise 1"
   ]
  },
  {
   "cell_type": "code",
   "execution_count": null,
   "metadata": {},
   "outputs": [],
   "source": [
    "# create array with seconds from 00:00 to 24:00, inclusive \n",
    "# (your code below)\n"
   ]
  },
  {
   "cell_type": "markdown",
   "metadata": {
    "nbpresent": {
     "id": "5f97fcc8-4899-4ccc-80b5-1d690edba723"
    },
    "slideshow": {
     "slide_type": "slide"
    }
   },
   "source": [
    "####  Create array filled with zeros"
   ]
  },
  {
   "cell_type": "code",
   "execution_count": null,
   "metadata": {
    "nbpresent": {
     "id": "94a69a3e-9b8b-40c2-b8b8-1d8fdbe42dce"
    }
   },
   "outputs": [],
   "source": [
    "np.zeros((2, 3))"
   ]
  },
  {
   "cell_type": "markdown",
   "metadata": {
    "slideshow": {
     "slide_type": "fragment"
    }
   },
   "source": [
    "By default, the dtype of the created array is float64 but other dtypes can be used:"
   ]
  },
  {
   "cell_type": "code",
   "execution_count": null,
   "metadata": {},
   "outputs": [],
   "source": [
    "np.zeros((2,2),dtype=int)"
   ]
  },
  {
   "cell_type": "markdown",
   "metadata": {
    "nbpresent": {
     "id": "4bb6df84-a88a-4c2e-a2d4-e8190d2a2b7c"
    },
    "slideshow": {
     "slide_type": "subslide"
    }
   },
   "source": [
    "#### Filled with ones"
   ]
  },
  {
   "cell_type": "code",
   "execution_count": null,
   "metadata": {
    "nbpresent": {
     "id": "898b2115-9eef-49a8-b156-945ed1a3c235"
    }
   },
   "outputs": [],
   "source": [
    "np.ones((2, 3))"
   ]
  },
  {
   "cell_type": "markdown",
   "metadata": {
    "nbpresent": {
     "id": "947124d2-eb2c-46f2-a0c8-a51d9c63c4c4"
    },
    "slideshow": {
     "slide_type": "subslide"
    }
   },
   "source": [
    "#### Create array with random numbers"
   ]
  },
  {
   "cell_type": "code",
   "execution_count": null,
   "metadata": {
    "nbpresent": {
     "id": "8842f902-0a29-4795-948e-c98a4b50d1e2"
    }
   },
   "outputs": [],
   "source": [
    "np.random.rand(4)       # uniform in [0, 1]"
   ]
  },
  {
   "cell_type": "code",
   "execution_count": null,
   "metadata": {
    "nbpresent": {
     "id": "2e242f89-46f9-455d-a35d-9b8de467795c"
    },
    "slideshow": {
     "slide_type": "fragment"
    }
   },
   "outputs": [],
   "source": [
    "np.random.normal(0,1,size=4)      # Gaussian (mean,std dev, num samples)"
   ]
  },
  {
   "cell_type": "code",
   "execution_count": null,
   "metadata": {
    "slideshow": {
     "slide_type": "fragment"
    }
   },
   "outputs": [],
   "source": [
    "np.random.gamma(1,1,(2,2))      # Gamma (shape, scale , num samples)"
   ]
  },
  {
   "cell_type": "markdown",
   "metadata": {
    "nbpresent": {
     "id": "54ba4e3c-1500-49a8-82e1-94b53f6638fe"
    },
    "slideshow": {
     "slide_type": "slide"
    }
   },
   "source": [
    "#### Grid generation"
   ]
  },
  {
   "cell_type": "markdown",
   "metadata": {
    "nbpresent": {
     "id": "c5a2312c-cf44-4e16-9a88-3369a2128b26"
    }
   },
   "source": [
    "* A common task is to generate a pair of arrays that represent data coordinates. \n",
    "* Useful for interpolation of mapping contours.\n",
    "* When orthogonal 1D coordinate arrays already exist, NumPy's `meshgrid` function is very useful:"
   ]
  },
  {
   "cell_type": "code",
   "execution_count": null,
   "metadata": {
    "nbpresent": {
     "id": "f5c120e0-6dd9-4acd-a282-0946fb97f97c"
    },
    "slideshow": {
     "slide_type": "subslide"
    }
   },
   "outputs": [],
   "source": [
    "x = np.linspace(-5, 5, 3)\n",
    "y = np.linspace(10, 40, 4)\n",
    "x2d, y2d = np.meshgrid(x, y)\n",
    "print(x2d)\n",
    "print(y2d)"
   ]
  },
  {
   "cell_type": "markdown",
   "metadata": {
    "nbpresent": {
     "id": "0461d0b1-8ad9-47d0-9526-0c673458c355"
    },
    "slideshow": {
     "slide_type": "subslide"
    }
   },
   "source": [
    "### Transpose arrays \n",
    "This can be very useful when dealing with grids"
   ]
  },
  {
   "cell_type": "code",
   "execution_count": null,
   "metadata": {
    "nbpresent": {
     "id": "44add5ea-6c3d-4548-b3a2-bf84e6106a6c"
    }
   },
   "outputs": [],
   "source": [
    "print(y2d)\n",
    "print(np.transpose(y2d)) # using a numpy function\n",
    "print(y2d.transpose())   # using the method of y2d\n",
    "print(y2d.T)             # using the property of y2d\n"
   ]
  },
  {
   "cell_type": "markdown",
   "metadata": {
    "nbpresent": {
     "id": "a6a7304e-8f7d-4526-ad10-2e6087dd58fa"
    },
    "slideshow": {
     "slide_type": "slide"
    }
   },
   "source": [
    "## Array indexing"
   ]
  },
  {
   "cell_type": "markdown",
   "metadata": {
    "nbpresent": {
     "id": "152675dd-6af1-45fb-b77a-6650fece47c4"
    }
   },
   "source": [
    "* Indices begin at 0, like other Python sequences and C/C++. Note that many languages, such as Matlab, R and Fortran, start with 1\n",
    "* In 2D, the first dimension corresponds to rows, the second to columns.\n",
    "* The fastest varying dimension is the last dimension! The outer level of the hierarchy is the first dimension."
   ]
  },
  {
   "cell_type": "code",
   "execution_count": null,
   "metadata": {
    "nbpresent": {
     "id": "e86ac685-f23a-499d-8777-1d83b301ccc0"
    },
    "slideshow": {
     "slide_type": "fragment"
    }
   },
   "outputs": [],
   "source": [
    "a = np.arange(10, 100, 10)\n",
    "a"
   ]
  },
  {
   "cell_type": "code",
   "execution_count": null,
   "metadata": {
    "nbpresent": {
     "id": "23948ec0-480d-413a-ab93-a24dd1949a52"
    },
    "slideshow": {
     "slide_type": "subslide"
    }
   },
   "outputs": [],
   "source": [
    "a[2:9:3] # [start:end:step]"
   ]
  },
  {
   "cell_type": "code",
   "execution_count": null,
   "metadata": {
    "nbpresent": {
     "id": "ffe33cc2-8b45-46e8-93dd-fd3cd11b0501"
    },
    "slideshow": {
     "slide_type": "fragment"
    }
   },
   "outputs": [],
   "source": [
    "a[:3] # last is not included"
   ]
  },
  {
   "cell_type": "code",
   "execution_count": null,
   "metadata": {
    "nbpresent": {
     "id": "03e4f53c-402f-4056-bd09-33fd4c03bc9e"
    },
    "slideshow": {
     "slide_type": "fragment"
    }
   },
   "outputs": [],
   "source": [
    "a[-2] # negative index counts from the end"
   ]
  },
  {
   "cell_type": "markdown",
   "metadata": {
    "nbpresent": {
     "id": "6ec21a43-9faf-4dd7-b477-e0a23906fc4b"
    },
    "slideshow": {
     "slide_type": "subslide"
    }
   },
   "source": [
    "### Using indexes: how to calculate x[i]-x[i-1] without a loop?"
   ]
  },
  {
   "cell_type": "code",
   "execution_count": null,
   "metadata": {},
   "outputs": [],
   "source": [
    "x = np.random.rand(6)\n",
    "x = np.sort(x)\n",
    "print(x)"
   ]
  },
  {
   "cell_type": "code",
   "execution_count": null,
   "metadata": {
    "nbpresent": {
     "id": "047ec35e-acd8-475a-bdce-acb38e8ef2c6"
    },
    "slideshow": {
     "slide_type": "fragment"
    }
   },
   "outputs": [],
   "source": [
    "x[1:] - x[:-1]"
   ]
  },
  {
   "cell_type": "markdown",
   "metadata": {
    "nbpresent": {
     "id": "013366e5-216b-44ac-a056-58a31817ae74"
    },
    "slideshow": {
     "slide_type": "slide"
    }
   },
   "source": [
    "## Exercise 2"
   ]
  },
  {
   "cell_type": "markdown",
   "metadata": {
    "nbpresent": {
     "id": "f0338b91-fc67-4336-8306-c85fa720e91e"
    }
   },
   "source": [
    "Create a 2D NumPy array from the following list and assign it to the variable \"arr\":"
   ]
  },
  {
   "cell_type": "code",
   "execution_count": null,
   "metadata": {
    "collapsed": true,
    "nbpresent": {
     "id": "a660e5c1-ca74-4317-841c-88dd2b974f30"
    }
   },
   "outputs": [],
   "source": [
    "# [[2, 3.2, 5.5, -6.4, -2.2, 2.4],\n",
    "#  [1, 22, 4, 0.1, 5.3, -9],\n",
    "#  [3, 1, 2.1, 21, 1.1, -2]]"
   ]
  },
  {
   "cell_type": "markdown",
   "metadata": {
    "nbpresent": {
     "id": "a2e93124-bab3-4d95-8b69-bb065964e2ac"
    }
   },
   "source": [
    "Can you guess what the following slices are equal to? Print them to check your understanding."
   ]
  },
  {
   "cell_type": "code",
   "execution_count": null,
   "metadata": {
    "collapsed": true,
    "nbpresent": {
     "id": "00f3dba9-818d-4002-9040-1f043b7679c6"
    }
   },
   "outputs": [],
   "source": [
    "# a[:, 3]"
   ]
  },
  {
   "cell_type": "code",
   "execution_count": null,
   "metadata": {
    "collapsed": true,
    "nbpresent": {
     "id": "571862ce-eafc-4031-87c3-868cc8747bb8"
    }
   },
   "outputs": [],
   "source": [
    "# a[1:4, 0:4]"
   ]
  },
  {
   "cell_type": "code",
   "execution_count": null,
   "metadata": {
    "collapsed": true,
    "nbpresent": {
     "id": "90ecb1c9-d482-43af-9088-82eeb430f0a5"
    }
   },
   "outputs": [],
   "source": [
    "# a[1:, 2]"
   ]
  },
  {
   "cell_type": "markdown",
   "metadata": {
    "nbpresent": {
     "id": "a2e93124-bab3-4d95-8b69-bb065964e2ac"
    }
   },
   "source": [
    "How to extract the last column and the row before last"
   ]
  },
  {
   "cell_type": "code",
   "execution_count": null,
   "metadata": {},
   "outputs": [],
   "source": [
    "#a[]"
   ]
  },
  {
   "cell_type": "code",
   "execution_count": null,
   "metadata": {
    "collapsed": true
   },
   "outputs": [],
   "source": [
    "#a[]"
   ]
  },
  {
   "cell_type": "markdown",
   "metadata": {
    "nbpresent": {
     "id": "686d90df-e79b-4b91-98b5-478c494a5ba6"
    },
    "slideshow": {
     "slide_type": "slide"
    }
   },
   "source": [
    "### Fancy indexing"
   ]
  },
  {
   "cell_type": "markdown",
   "metadata": {
    "nbpresent": {
     "id": "b365a825-3b74-48b2-b9d2-80f4443ad2ed"
    }
   },
   "source": [
    "NumPy arrays can be indexed with slices, but also with boolean or\n",
    "integer arrays (masks)"
   ]
  },
  {
   "cell_type": "code",
   "execution_count": null,
   "metadata": {
    "nbpresent": {
     "id": "d3fb110b-4188-47b2-bd1f-e1a947ec4238"
    }
   },
   "outputs": [],
   "source": [
    "a = np.random.randint(1, 100, 6) # array of 6 random integers between 1 and 100\n",
    "a"
   ]
  },
  {
   "cell_type": "code",
   "execution_count": null,
   "metadata": {
    "nbpresent": {
     "id": "54fadc55-df14-40d8-b41e-115a7cf95f71"
    },
    "slideshow": {
     "slide_type": "fragment"
    }
   },
   "outputs": [],
   "source": [
    "mask = ( a % 3 == 0 ) # Where divisible by 3 (% is the modulus operator).\n",
    "mask"
   ]
  },
  {
   "cell_type": "code",
   "execution_count": null,
   "metadata": {
    "nbpresent": {
     "id": "915e5cea-7a7e-4fd5-916b-185ff92f426c"
    },
    "slideshow": {
     "slide_type": "fragment"
    }
   },
   "outputs": [],
   "source": [
    "a[mask]"
   ]
  },
  {
   "cell_type": "markdown",
   "metadata": {
    "nbpresent": {
     "id": "56006022-cb7e-4817-965e-0d8019b5cf5b"
    },
    "slideshow": {
     "slide_type": "slide"
    }
   },
   "source": [
    "### Array attributes"
   ]
  },
  {
   "cell_type": "code",
   "execution_count": null,
   "metadata": {
    "nbpresent": {
     "id": "533f6c45-dcc1-4c89-837b-14cafa6450c9"
    }
   },
   "outputs": [],
   "source": [
    "a2d"
   ]
  },
  {
   "cell_type": "markdown",
   "metadata": {
    "nbpresent": {
     "id": "acab22ac-112c-46a6-8ce6-9cb565a065ea"
    },
    "slideshow": {
     "slide_type": "fragment"
    }
   },
   "source": [
    "#### ndarray.ndim\n",
    "the number of axes (dimensions) of the array. In NumPy, the number of dimensions is referred to as rank."
   ]
  },
  {
   "cell_type": "code",
   "execution_count": null,
   "metadata": {
    "nbpresent": {
     "id": "fbe0aa9f-0d75-4fc7-b3c3-3f5f7c44fac3"
    }
   },
   "outputs": [],
   "source": [
    "a2d.ndim"
   ]
  },
  {
   "cell_type": "markdown",
   "metadata": {
    "slideshow": {
     "slide_type": "subslide"
    }
   },
   "source": [
    "#### ndarray.shape\n",
    "the dimensions of the array"
   ]
  },
  {
   "cell_type": "code",
   "execution_count": null,
   "metadata": {
    "nbpresent": {
     "id": "85ff445c-cfa0-4f4b-ad7f-fd44c46fe282"
    }
   },
   "outputs": [],
   "source": [
    "a2d.shape"
   ]
  },
  {
   "cell_type": "markdown",
   "metadata": {
    "nbpresent": {
     "id": "5910f844-e23f-420e-857e-1b9dba87558d"
    },
    "slideshow": {
     "slide_type": "-"
    }
   },
   "source": [
    "This is a tuple of integers indicating the size of the array in each dimension. For a matrix with n rows and m columns, shape will be (n,m). The length of the shape tuple is therefore the rank, or number of dimensions, ndim."
   ]
  },
  {
   "cell_type": "code",
   "execution_count": null,
   "metadata": {},
   "outputs": [],
   "source": [
    "# Let's use those values\n",
    "\n",
    "NLines,NCols = a2d.shape\n",
    "print('NLines:', NLines,'NCols:',NCols)"
   ]
  },
  {
   "cell_type": "markdown",
   "metadata": {
    "nbpresent": {
     "id": "cd88b0eb-5be8-4e92-baa2-03c2f273500a"
    },
    "slideshow": {
     "slide_type": "subslide"
    }
   },
   "source": [
    "#### ndarray.size\n",
    "the total number of elements of the array"
   ]
  },
  {
   "cell_type": "code",
   "execution_count": null,
   "metadata": {
    "nbpresent": {
     "id": "0b15bc65-fb32-4f91-ab6c-32d7bb26be6a"
    }
   },
   "outputs": [],
   "source": [
    "a2d.size"
   ]
  },
  {
   "cell_type": "markdown",
   "metadata": {
    "nbpresent": {
     "id": "1a18bf69-d047-457c-ab78-251651bf6dcf"
    },
    "slideshow": {
     "slide_type": "fragment"
    }
   },
   "source": [
    "Note that `size` is not equal to `len()`. The latter returns the length of the first dimension."
   ]
  },
  {
   "cell_type": "code",
   "execution_count": null,
   "metadata": {
    "nbpresent": {
     "id": "a3384ab0-0486-4ecc-bf64-e7f8e4178686"
    }
   },
   "outputs": [],
   "source": [
    "len(a2d)"
   ]
  },
  {
   "cell_type": "markdown",
   "metadata": {},
   "source": [
    "### Copies and views"
   ]
  },
  {
   "cell_type": "code",
   "execution_count": null,
   "metadata": {},
   "outputs": [],
   "source": [
    "original = np.array([99,98,97])\n",
    "\n",
    "other = original\n",
    "other[0] = 0\n",
    "\n",
    "print('other is now ',other)\n",
    "print('original is now ',original)"
   ]
  },
  {
   "cell_type": "markdown",
   "metadata": {},
   "source": [
    "Numpy, in its frugality, will create a view by default, unless told to make a copy."
   ]
  },
  {
   "cell_type": "code",
   "execution_count": null,
   "metadata": {},
   "outputs": [],
   "source": [
    "original = np.array([99,98,97])\n",
    "copy = original.copy()\n",
    "copy[0] = 0\n",
    "\n",
    "print('copy is now ',copy)\n",
    "print('original is now ',original)"
   ]
  },
  {
   "cell_type": "markdown",
   "metadata": {},
   "source": [
    "### Copies vs. in-place operations\n",
    "\n",
    "\n",
    "From help(numpy):\n",
    "\n",
    "<code>\n",
    "Most of the functions in `numpy` return a copy of the array argument\n",
    "(e.g., `np.sort`).  In-place versions of these functions are often\n",
    "available as array methods, i.e. ``x = np.array([1,2,3]); x.sort()``.\n",
    "Exceptions to this rule are documented.\n",
    "</code>"
   ]
  },
  {
   "cell_type": "code",
   "execution_count": null,
   "metadata": {},
   "outputs": [],
   "source": [
    "original = np.array([99,98,97])\n",
    "\n",
    "# Function sort\n",
    "sortedCopy = np.sort(original)\n",
    "print('original:',original,'returned:',sortedCopy)\n",
    "\n",
    "# Method sort()\n",
    "original.sort()\n",
    "print('original:', original)\n"
   ]
  },
  {
   "cell_type": "markdown",
   "metadata": {
    "slideshow": {
     "slide_type": "slide"
    }
   },
   "source": [
    "### Statistical methods of arrays"
   ]
  },
  {
   "cell_type": "code",
   "execution_count": null,
   "metadata": {},
   "outputs": [],
   "source": [
    "a1d=np.random.normal(0,1,4)\n",
    "print('array a1d                       :', a1d)\n",
    "print('Minimum and maximum             :', a1d.min(), a1d.max())\n",
    "print('Index of minimum and maximum    :', a1d.argmin(), a1d.argmax())\n",
    "print('Sum and product of all elements :', a1d.sum(), a1d.prod())\n",
    "print('Mean and standard deviation     :', a1d.mean(), a1d.std())\n"
   ]
  },
  {
   "cell_type": "markdown",
   "metadata": {},
   "source": [
    "### Statistical functions\n",
    "\n",
    "<https://docs.scipy.org/doc/numpy-1.13.0/reference/routines.statistics.html>\n",
    "    "
   ]
  },
  {
   "cell_type": "code",
   "execution_count": null,
   "metadata": {},
   "outputs": [],
   "source": [
    "print('Median and percentile           :', np.median(a1d), np.percentile(a1d,75))"
   ]
  },
  {
   "cell_type": "markdown",
   "metadata": {
    "slideshow": {
     "slide_type": "slide"
    }
   },
   "source": [
    "### Operations over a given axis"
   ]
  },
  {
   "cell_type": "code",
   "execution_count": null,
   "metadata": {},
   "outputs": [],
   "source": [
    "print(a2d)\n",
    "print('sum  :',a2d.sum())\n",
    "print('sum  :',a2d.sum(axis=0))\n",
    "print('sum  :',a2d.sum(axis=1))"
   ]
  },
  {
   "cell_type": "markdown",
   "metadata": {
    "slideshow": {
     "slide_type": "slide"
    }
   },
   "source": [
    "### Vectorisation: operations on whole arrays"
   ]
  },
  {
   "cell_type": "code",
   "execution_count": null,
   "metadata": {
    "slideshow": {
     "slide_type": "-"
    }
   },
   "outputs": [],
   "source": [
    "a=np.random.rand(4)\n",
    "print(a)\n",
    "np.exp(a/100.)/a"
   ]
  },
  {
   "cell_type": "code",
   "execution_count": null,
   "metadata": {
    "slideshow": {
     "slide_type": "fragment"
    }
   },
   "outputs": [],
   "source": [
    "# Non-vectorised\n",
    "r=np.zeros(a.shape)   # create empy array for results\n",
    "\n",
    "for i in range(a.size):\n",
    "    r[i] = np.exp(a[i]/100.)/a[i]\n",
    "r"
   ]
  },
  {
   "cell_type": "markdown",
   "metadata": {
    "slideshow": {
     "slide_type": "subslide"
    }
   },
   "source": [
    "Vectorization is generally faster than a for loop.\n",
    "But for complicated algorithms it might not be possible or the most readable:\n",
    "<code>\n",
    "for i in range(len(a)):\n",
    "    if isprime(i):\n",
    "        r[i] = a[i]\n",
    "    else\n",
    "        r[i]= a[i]+a[i-1]\n",
    "</code>"
   ]
  },
  {
   "cell_type": "markdown",
   "metadata": {
    "nbpresent": {
     "id": "15628281-b27d-4dda-8360-e6dfc88dc863"
    },
    "slideshow": {
     "slide_type": "slide"
    }
   },
   "source": [
    "## Exercise 3"
   ]
  },
  {
   "cell_type": "markdown",
   "metadata": {
    "nbpresent": {
     "id": "5e485850-9bbe-419f-82bb-d7fcd39be095"
    }
   },
   "source": [
    "Consider an 4x5 2D array of negative integers:"
   ]
  },
  {
   "cell_type": "code",
   "execution_count": null,
   "metadata": {
    "nbpresent": {
     "id": "e4b78e95-ad9a-4a6d-a54b-68d7d4a72eab"
    }
   },
   "outputs": [],
   "source": [
    "a = np.arange(-100, 0, 5).reshape(4, 5)\n",
    "a"
   ]
  },
  {
   "cell_type": "markdown",
   "metadata": {
    "nbpresent": {
     "id": "ccf808ae-2412-4e53-bb29-d3101eccc925"
    }
   },
   "source": [
    "Suppose you want to return an array `result`, which has the squared value when an element in array `a` is greater than `-90` and less than `-40`, and is 1 otherwise."
   ]
  },
  {
   "cell_type": "markdown",
   "metadata": {
    "nbpresent": {
     "id": "29981bec-1784-4ca7-b609-749858503e45"
    },
    "slideshow": {
     "slide_type": "subslide"
    }
   },
   "source": [
    "* With a For loop it would look like this:"
   ]
  },
  {
   "cell_type": "code",
   "execution_count": null,
   "metadata": {
    "nbpresent": {
     "id": "a508de6d-2d13-4938-a145-d1159600a619"
    }
   },
   "outputs": [],
   "source": [
    "result = np.zeros(a.shape, dtype=a.dtype)\n",
    "\n",
    "for i in range(a.shape[0]):\n",
    "    for j in range(a.shape[1]):\n",
    "        if a[i, j] > -90 and a[i, j] < -40:\n",
    "            result[i, j] = a[i, j]**2\n",
    "        else:\n",
    "            result[i, j] = 1\n",
    "            \n",
    "result"
   ]
  },
  {
   "cell_type": "markdown",
   "metadata": {
    "nbpresent": {
     "id": "29981bec-1784-4ca7-b609-749858503e45"
    },
    "slideshow": {
     "slide_type": "subslide"
    }
   },
   "source": [
    "* Can you write a vectorised solution?\n",
    "\n",
    "Hint: use np.logical_and() and np.logical_not() to create a condition\n"
   ]
  },
  {
   "cell_type": "code",
   "execution_count": null,
   "metadata": {},
   "outputs": [],
   "source": [
    "# Your code here\n",
    "# \n",
    "\n"
   ]
  },
  {
   "cell_type": "markdown",
   "metadata": {
    "nbpresent": {
     "id": "58476342-2046-4948-bccd-42fed1ed53f4"
    },
    "slideshow": {
     "slide_type": "slide"
    }
   },
   "source": [
    "## Masked arrays - how to handle (propagating) missing values"
   ]
  },
  {
   "cell_type": "markdown",
   "metadata": {
    "nbpresent": {
     "id": "38ba6171-e3af-4083-9c19-e6e3f38e4891"
    }
   },
   "source": [
    "![](../figures/masked_array.png)"
   ]
  },
  {
   "cell_type": "markdown",
   "metadata": {
    "nbpresent": {
     "id": "f2e85099-ffb1-45a3-bb8d-cac1439c62d9"
    }
   },
   "source": [
    "All operations related to masked arrays live in `numpy.ma` submodule."
   ]
  },
  {
   "cell_type": "markdown",
   "metadata": {
    "nbpresent": {
     "id": "3f014dab-6e80-43d0-8c94-35bc123114f9"
    },
    "slideshow": {
     "slide_type": "fragment"
    }
   },
   "source": [
    "The simplest example of manual creation of a masked array:"
   ]
  },
  {
   "cell_type": "code",
   "execution_count": null,
   "metadata": {
    "nbpresent": {
     "id": "7eba33b7-40c1-4195-893b-071a03b2b65f"
    }
   },
   "outputs": [],
   "source": [
    "a = np.ma.masked_array(data=[1, 2, 3],\n",
    "                       mask=[True, True, False],\n",
    "                       fill_value=-999)\n",
    "a"
   ]
  },
  {
   "cell_type": "markdown",
   "metadata": {
    "nbpresent": {
     "id": "9175cb41-3123-45e0-904c-9fe219070fc5"
    },
    "slideshow": {
     "slide_type": "subslide"
    }
   },
   "source": [
    "Often, a task is to mask array depending on a criterion."
   ]
  },
  {
   "cell_type": "code",
   "execution_count": null,
   "metadata": {
    "collapsed": true,
    "nbpresent": {
     "id": "484c1561-5a07-425e-a56d-8af2ff9a7094"
    }
   },
   "outputs": [],
   "source": [
    "a = np.linspace(1, 15, 15)"
   ]
  },
  {
   "cell_type": "code",
   "execution_count": null,
   "metadata": {
    "collapsed": true,
    "nbpresent": {
     "id": "22202376-6934-490e-bd31-aaf7017cea05"
    }
   },
   "outputs": [],
   "source": [
    "masked_a = np.ma.masked_greater_equal(a, 11)"
   ]
  },
  {
   "cell_type": "code",
   "execution_count": null,
   "metadata": {
    "nbpresent": {
     "id": "4c6a3958-60de-4b04-a7ab-cab1a5d7bf76"
    }
   },
   "outputs": [],
   "source": [
    "masked_a"
   ]
  },
  {
   "cell_type": "markdown",
   "metadata": {
    "nbpresent": {
     "id": "d82ade32-2607-4ca4-8b64-fa4e2e752fc2"
    },
    "slideshow": {
     "slide_type": "subslide"
    }
   },
   "source": [
    "### Solution to Exercise 3 \n",
    "\n",
    "A more less verbose and quicker approach would be:"
   ]
  },
  {
   "cell_type": "code",
   "execution_count": null,
   "metadata": {
    "nbpresent": {
     "id": "28f72d98-eb62-4d08-bc44-52439d7ae8dc"
    }
   },
   "outputs": [],
   "source": [
    "condition = np.logical_and(a > -90,a < -40)\n",
    "condition"
   ]
  },
  {
   "cell_type": "code",
   "execution_count": null,
   "metadata": {
    "nbpresent": {
     "id": "62b9a2d0-a926-423d-9be4-0324ea214c33"
    }
   },
   "outputs": [],
   "source": [
    "result[condition] = a[condition]**2\n",
    "result[np.logical_not(condition)] = 1\n",
    "print(result)"
   ]
  },
  {
   "cell_type": "markdown",
   "metadata": {
    "nbpresent": {
     "id": "46e71a2c-6f32-45a4-94b0-9847c54d3f8d"
    },
    "slideshow": {
     "slide_type": "subslide"
    }
   },
   "source": [
    "### A one-liner using ``np.where``:"
   ]
  },
  {
   "cell_type": "code",
   "execution_count": null,
   "metadata": {
    "nbpresent": {
     "id": "6e5ee576-e08b-48cf-a6d9-598836ddebb5"
    }
   },
   "outputs": [],
   "source": [
    "result = np.where(condition, a**2, 1)\n",
    "print(result)"
   ]
  },
  {
   "cell_type": "markdown",
   "metadata": {
    "nbpresent": {
     "id": "b8bb2d1c-c4a3-41f2-8bb9-53114010cf4d"
    },
    "slideshow": {
     "slide_type": "slide"
    }
   },
   "source": [
    "## Exercise 4"
   ]
  },
  {
   "cell_type": "markdown",
   "metadata": {
    "nbpresent": {
     "id": "8b2e92c7-13c0-4a2c-9efa-b034914c63d2"
    }
   },
   "source": [
    "* Create a \"data\" array of linearly spaced numbers in the interval (-10, 20) spaced by 0.5\n",
    "* Calculate the logarithm of the vector\n",
    "* Create a condition - a True/False (boolean) array, corresponding to the masked values\n",
    "* The data array should be masked when all of the following conditions apply\n",
    "    - larger or equal than 10\n",
    "    - larger than -1 and smaller than 1 \n",
    "* Mask the array depending on the condition\n",
    "* Hint: use `np.where` function"
   ]
  },
  {
   "cell_type": "code",
   "execution_count": 219,
   "metadata": {
    "nbpresent": {
     "id": "ef21490b-e603-4991-a0df-0ebdccef705b"
    },
    "slideshow": {
     "slide_type": "subslide"
    }
   },
   "outputs": [],
   "source": [
    "# Your code:\n",
    "# Hint: use `np.linspace` or `np.arange` functions\n"
   ]
  },
  {
   "cell_type": "code",
   "execution_count": 218,
   "metadata": {
    "nbpresent": {
     "id": "24ca4668-8118-4652-bc6a-3fc80dd52b2c"
    }
   },
   "outputs": [],
   "source": [
    "# Your code:\n",
    "# Hint: use np.isfinite\n",
    "# condition = "
   ]
  },
  {
   "cell_type": "code",
   "execution_count": 217,
   "metadata": {
    "nbpresent": {
     "id": "8e131b42-9337-499d-9192-e8250ca8ae6c"
    }
   },
   "outputs": [],
   "source": [
    "# Hint: use np.ma.masked_where(condition,arr)\n",
    "#masked_arr=\n",
    "#print(masked_arr)"
   ]
  },
  {
   "cell_type": "markdown",
   "metadata": {
    "nbpresent": {
     "id": "06a187b0-6521-456d-9d79-32dd6dcaff50"
    },
    "slideshow": {
     "slide_type": "slide"
    }
   },
   "source": [
    "## Shape manipulation"
   ]
  },
  {
   "cell_type": "code",
   "execution_count": null,
   "metadata": {
    "collapsed": true,
    "nbpresent": {
     "id": "84c93559-ddbc-401b-8c9f-ec2850ba18d4"
    }
   },
   "outputs": [],
   "source": [
    "a = np.array([[1, 2, 3], [4, 5, 6]])"
   ]
  },
  {
   "cell_type": "code",
   "execution_count": null,
   "metadata": {
    "nbpresent": {
     "id": "547ccf49-57db-451d-9121-e53612dc2d01"
    }
   },
   "outputs": [],
   "source": [
    "print('{} <-- array'.format(a))\n",
    "print('{} <-- its shape'.format(a.shape))"
   ]
  },
  {
   "cell_type": "code",
   "execution_count": null,
   "metadata": {
    "nbpresent": {
     "id": "435a2a83-9e10-4ad7-a65b-6865f52e07a6"
    }
   },
   "outputs": [],
   "source": [
    "a.flatten()"
   ]
  },
  {
   "cell_type": "code",
   "execution_count": null,
   "metadata": {
    "nbpresent": {
     "id": "dd1195bc-181d-4f01-8af5-c91e8299ce0d"
    }
   },
   "outputs": [],
   "source": [
    "a.repeat(4)"
   ]
  },
  {
   "cell_type": "code",
   "execution_count": null,
   "metadata": {
    "nbpresent": {
     "id": "7c8994b6-af64-4556-8083-c21eeafa2be3"
    },
    "slideshow": {
     "slide_type": "subslide"
    }
   },
   "outputs": [],
   "source": [
    "a.reshape((3, 2))"
   ]
  },
  {
   "cell_type": "code",
   "execution_count": null,
   "metadata": {
    "nbpresent": {
     "id": "cf2b5bc1-b4b4-4cf0-9cc5-a8d517d0a0fa"
    }
   },
   "outputs": [],
   "source": [
    "print('Old shape: {}'.format(a.shape))\n",
    "print('New shape: {}'.format(a.reshape((3, 2)).shape))"
   ]
  },
  {
   "cell_type": "markdown",
   "metadata": {
    "nbpresent": {
     "id": "318c08b7-b96b-48b8-82f8-14c674a31f2c"
    },
    "slideshow": {
     "slide_type": "-"
    }
   },
   "source": [
    "#### Add a dimension"
   ]
  },
  {
   "cell_type": "code",
   "execution_count": null,
   "metadata": {
    "nbpresent": {
     "id": "fd6d8a8e-96f8-443a-87ec-139f50184086"
    }
   },
   "outputs": [],
   "source": [
    "a[..., np.newaxis].shape"
   ]
  },
  {
   "cell_type": "markdown",
   "metadata": {
    "nbpresent": {
     "id": "0af8ed23-8106-4227-8219-7f3e74124ab8"
    },
    "slideshow": {
     "slide_type": "slide"
    }
   },
   "source": [
    "## (One) solution to exercise 5"
   ]
  },
  {
   "cell_type": "code",
   "execution_count": null,
   "metadata": {
    "nbpresent": {
     "id": "ef21490b-e603-4991-a0df-0ebdccef705b"
    },
    "slideshow": {
     "slide_type": "subslide"
    }
   },
   "outputs": [],
   "source": [
    "# Your code:\n",
    "arr = np.arange(-10,20.1,0.5)\n",
    "arr=np.log(arr)\n",
    "print(arr)"
   ]
  },
  {
   "cell_type": "code",
   "execution_count": null,
   "metadata": {
    "nbpresent": {
     "id": "24ca4668-8118-4652-bc6a-3fc80dd52b2c"
    }
   },
   "outputs": [],
   "source": [
    "# Your code:\n",
    "condition = np.logical_or(np.logical_or(abs(arr)<1,arr>=10), np.logical_not(np.isfinite(arr)))\n",
    "print(condition)\n"
   ]
  },
  {
   "cell_type": "code",
   "execution_count": null,
   "metadata": {
    "nbpresent": {
     "id": "8e131b42-9337-499d-9192-e8250ca8ae6c"
    }
   },
   "outputs": [],
   "source": [
    "# use np.ma.masked_where(condition,arr)\n",
    "masked_arr=np.ma.masked_where(condition,arr)\n",
    "print(masked_arr)"
   ]
  },
  {
   "cell_type": "markdown",
   "metadata": {
    "nbpresent": {
     "id": "0af8ed23-8106-4227-8219-7f3e74124ab8"
    },
    "slideshow": {
     "slide_type": "slide"
    }
   },
   "source": [
    "## Exercise 5"
   ]
  },
  {
   "cell_type": "markdown",
   "metadata": {
    "nbpresent": {
     "id": "1b5078dd-d512-4fa6-8cd8-b8e3daa894ca"
    }
   },
   "source": [
    "Generate a 2d array with 5x5. The first value is 0 and it grows left to right and top to bottom in increments on 0.1."
   ]
  },
  {
   "cell_type": "code",
   "execution_count": null,
   "metadata": {
    "slideshow": {
     "slide_type": "subslide"
    }
   },
   "outputs": [],
   "source": [
    "e4 = np.arange(0.,2.5,.1)\n",
    "e4"
   ]
  },
  {
   "cell_type": "code",
   "execution_count": null,
   "metadata": {},
   "outputs": [],
   "source": [
    "e4.reshape([5,5])"
   ]
  },
  {
   "cell_type": "markdown",
   "metadata": {
    "nbpresent": {
     "id": "6bb5bbcc-f6f2-4e9a-8dbe-19bdbdb10ff3"
    },
    "slideshow": {
     "slide_type": "slide"
    }
   },
   "source": [
    "## Broadcasting"
   ]
  },
  {
   "cell_type": "markdown",
   "metadata": {
    "nbpresent": {
     "id": "5e563a0d-2573-4966-9c3c-835a5b990f74"
    }
   },
   "source": [
    "The fact that NumPy operates on an element-wise basis means that in principle arrays must always match one another's shape. However, NumPy will also helpfully \"broadcast\" dimensions when possible. "
   ]
  },
  {
   "cell_type": "markdown",
   "metadata": {
    "nbpresent": {
     "id": "c7257001-72db-484f-b1e4-d8a75989e684"
    }
   },
   "source": [
    "![](http://www.astroml.org/_images/fig_broadcast_visual_1.png)\n",
    "[Image source](http://www.astroml.org/book_figures/appendix/fig_broadcast_visual.html)"
   ]
  },
  {
   "cell_type": "markdown",
   "metadata": {
    "nbpresent": {
     "id": "ad295c42-d362-490f-b36d-a111539486d1"
    },
    "slideshow": {
     "slide_type": "skip"
    }
   },
   "source": [
    "## References\n",
    "* [NumPy docs](https://docs.scipy.org/doc/numpy-dev/user/quickstart.html)\n",
    "* [SciPy lectures](http://www.scipy-lectures.org/)\n",
    "* [NCAS Introduction to Scientific Computing Course](http://www.ceda.ac.uk/ncas-reading-2015/)"
   ]
  }
 ],
 "metadata": {
  "anaconda-cloud": {},
  "kernelspec": {
   "display_name": "Python 3",
   "language": "python",
   "name": "python3"
  },
  "language_info": {
   "codemirror_mode": {
    "name": "ipython",
    "version": 3
   },
   "file_extension": ".py",
   "mimetype": "text/x-python",
   "name": "python",
   "nbconvert_exporter": "python",
   "pygments_lexer": "ipython3",
   "version": "3.6.3"
  },
  "nbpresent": {
   "slides": {
    "4798f93c-8f24-4f7e-be65-27406974182c": {
     "id": "4798f93c-8f24-4f7e-be65-27406974182c",
     "layout": "treemap",
     "prev": null,
     "regions": {
      "2f502aa8-e65d-4c9d-9bd3-55f2a647c2ef": {
       "attrs": {
        "height": 0.6,
        "treemap:weight": 1,
        "width": 0.33,
        "x": 0,
        "y": 0
       },
       "content": {
        "cell": "c5293860-d398-4c3e-9766-addce666a28c",
        "part": "source"
       },
       "id": "2f502aa8-e65d-4c9d-9bd3-55f2a647c2ef"
      },
      "93a46097-09ad-4289-8e25-3265d817c8d6": {
       "attrs": {
        "height": 0.4,
        "treemap:weight": 1,
        "width": 0.5,
        "x": 0.5,
        "y": 0.6
       },
       "id": "93a46097-09ad-4289-8e25-3265d817c8d6"
      },
      "b1321f47-814e-4a74-802c-2eb47339a67b": {
       "attrs": {
        "height": 0.6,
        "treemap:weight": 1,
        "width": 0.33,
        "x": 0.33,
        "y": 0
       },
       "content": {
        "cell": "fba65ca1-2bcd-4302-ad77-ca515bb41369",
        "part": "source"
       },
       "id": "b1321f47-814e-4a74-802c-2eb47339a67b"
      },
      "c4cda325-7dd3-42ad-b54f-8cb31d725bd3": {
       "attrs": {
        "height": 0.6,
        "treemap:weight": 1,
        "width": 0.34,
        "x": 0.66,
        "y": 0
       },
       "content": {
        "cell": "c2b1570a-8793-4d69-a85a-a3261dbd0f76",
        "part": "source"
       },
       "id": "c4cda325-7dd3-42ad-b54f-8cb31d725bd3"
      },
      "f0c54344-5f32-428a-bc46-4db7c8b6c587": {
       "attrs": {
        "height": 0.4,
        "treemap:weight": 1,
        "width": 0.5,
        "x": 0,
        "y": 0.6
       },
       "content": {
        "cell": "b845a40e-6dd0-453b-8ea4-7ffb32b4518a",
        "part": "source"
       },
       "id": "f0c54344-5f32-428a-bc46-4db7c8b6c587"
      }
     },
     "theme": null
    },
    "64b5ba2d-6cbe-4096-a520-ffc8b891e8f3": {
     "id": "64b5ba2d-6cbe-4096-a520-ffc8b891e8f3",
     "layout": "manual",
     "prev": "4798f93c-8f24-4f7e-be65-27406974182c",
     "regions": {
      "467796dd-f6e9-4fcd-847d-625be16f405a": {
       "attrs": {
        "height": 0.4,
        "width": 0.4000000000000001,
        "x": 0.08897243107769423,
        "y": 0.5032303319605437
       },
       "id": "467796dd-f6e9-4fcd-847d-625be16f405a"
      },
      "82dcf89b-1c81-4cd8-b224-dce5ffcf88db": {
       "attrs": {
        "height": 0.4,
        "width": 0.4000000000000001,
        "x": 0.10000000000000002,
        "y": 0.5
       },
       "id": "82dcf89b-1c81-4cd8-b224-dce5ffcf88db"
      },
      "8d36b632-a695-4fb6-a0a7-4a3c14ac45c7": {
       "attrs": {
        "height": 0.4,
        "width": 0.4000000000000001,
        "x": 0.10000000000000002,
        "y": 0.1
       },
       "id": "8d36b632-a695-4fb6-a0a7-4a3c14ac45c7"
      },
      "e518fa20-61c4-4513-8c7a-e0c1cc93051a": {
       "attrs": {
        "height": 0.4,
        "width": 0.4,
        "x": 0.5,
        "y": 0.5
       },
       "id": "e518fa20-61c4-4513-8c7a-e0c1cc93051a"
      }
     }
    }
   },
   "themes": {
    "default": "5ad4947f-a301-4117-8fc5-f41f1f926c76",
    "theme": {
     "5ad4947f-a301-4117-8fc5-f41f1f926c76": {
      "backgrounds": {
       "backgroundColor": {
        "background-color": "backgroundColor",
        "id": "backgroundColor"
       }
      },
      "id": "5ad4947f-a301-4117-8fc5-f41f1f926c76",
      "palette": {
       "backgroundColor": {
        "id": "backgroundColor",
        "rgb": [
         256,
         256,
         256
        ]
       },
       "headingColor": {
        "id": "headingColor",
        "rgb": [
         34,
         34,
         34
        ]
       },
       "linkColor": {
        "id": "linkColor",
        "rgb": [
         42,
         118,
         221
        ]
       },
       "mainColor": {
        "id": "mainColor",
        "rgb": [
         34,
         34,
         34
        ]
       }
      },
      "rules": {
       "a": {
        "color": "linkColor"
       },
       "h1": {
        "color": "headingColor",
        "font-family": "Source Sans Pro",
        "font-size": 5.25
       },
       "h2": {
        "color": "headingColor",
        "font-family": "Source Sans Pro",
        "font-size": 4
       },
       "h3": {
        "color": "headingColor",
        "font-family": "Source Sans Pro",
        "font-size": 3.5
       },
       "h4": {
        "color": "headingColor",
        "font-family": "Source Sans Pro",
        "font-size": 3
       },
       "h5": {
        "color": "headingColor",
        "font-family": "Source Sans Pro"
       },
       "h6": {
        "color": "headingColor",
        "font-family": "Source Sans Pro"
       },
       "h7": {
        "color": "headingColor",
        "font-family": "Source Sans Pro"
       },
       "li": {
        "color": "mainColor",
        "font-family": "Source Sans Pro",
        "font-size": 6
       },
       "p": {
        "color": "mainColor",
        "font-family": "Source Sans Pro",
        "font-size": 6
       }
      },
      "text-base": {
       "color": "mainColor",
       "font-family": "Source Sans Pro",
       "font-size": 6
      }
     }
    }
   }
  }
 },
 "nbformat": 4,
 "nbformat_minor": 1
}
